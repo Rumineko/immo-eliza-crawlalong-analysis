{
 "cells": [
  {
   "cell_type": "code",
   "execution_count": 15,
   "id": "initial_id",
   "metadata": {
    "collapsed": true,
    "ExecuteTime": {
     "end_time": "2024-03-01T16:05:52.700897Z",
     "start_time": "2024-03-01T16:05:52.694258Z"
    }
   },
   "outputs": [],
   "source": [
    "import pandas as pd\n",
    "import numpy as np"
   ]
  },
  {
   "cell_type": "code",
   "outputs": [
    {
     "data": {
      "text/plain": "   Postcode                                         Plaatsnaam Deelgemeente  \\\n0       612                                        Sinterklaas          NaN   \n1      1000                                            Brussel         Neen   \n2      1005   Verenigde Vergadering van de Gemeenschappelijke           NaN   \n3      1006          Raad van de Vlaamse Gemeenschapscommissie          NaN   \n4      1007  Assemblée de la Commission Communautaire Franç...          NaN   \n\n                                       Hoofdgemeente Provincie  \n0                                        Sinterklaas       NaN  \n1                                            BRUSSEL   BRUSSEL  \n2   Verenigde Vergadering van de Gemeenschappelijke    BRUSSEL  \n3          Raad van de Vlaamse Gemeenschapscommissie   BRUSSEL  \n4  Assemblée de la Commission Communautaire Franç...   BRUSSEL  ",
      "text/html": "<div>\n<style scoped>\n    .dataframe tbody tr th:only-of-type {\n        vertical-align: middle;\n    }\n\n    .dataframe tbody tr th {\n        vertical-align: top;\n    }\n\n    .dataframe thead th {\n        text-align: right;\n    }\n</style>\n<table border=\"1\" class=\"dataframe\">\n  <thead>\n    <tr style=\"text-align: right;\">\n      <th></th>\n      <th>Postcode</th>\n      <th>Plaatsnaam</th>\n      <th>Deelgemeente</th>\n      <th>Hoofdgemeente</th>\n      <th>Provincie</th>\n    </tr>\n  </thead>\n  <tbody>\n    <tr>\n      <th>0</th>\n      <td>612</td>\n      <td>Sinterklaas</td>\n      <td>NaN</td>\n      <td>Sinterklaas</td>\n      <td>NaN</td>\n    </tr>\n    <tr>\n      <th>1</th>\n      <td>1000</td>\n      <td>Brussel</td>\n      <td>Neen</td>\n      <td>BRUSSEL</td>\n      <td>BRUSSEL</td>\n    </tr>\n    <tr>\n      <th>2</th>\n      <td>1005</td>\n      <td>Verenigde Vergadering van de Gemeenschappelijke</td>\n      <td>NaN</td>\n      <td>Verenigde Vergadering van de Gemeenschappelijke</td>\n      <td>BRUSSEL</td>\n    </tr>\n    <tr>\n      <th>3</th>\n      <td>1006</td>\n      <td>Raad van de Vlaamse Gemeenschapscommissie</td>\n      <td>NaN</td>\n      <td>Raad van de Vlaamse Gemeenschapscommissie</td>\n      <td>BRUSSEL</td>\n    </tr>\n    <tr>\n      <th>4</th>\n      <td>1007</td>\n      <td>Assemblée de la Commission Communautaire Franç...</td>\n      <td>NaN</td>\n      <td>Assemblée de la Commission Communautaire Franç...</td>\n      <td>BRUSSEL</td>\n    </tr>\n  </tbody>\n</table>\n</div>"
     },
     "execution_count": 16,
     "metadata": {},
     "output_type": "execute_result"
    }
   ],
   "source": [
    "post_code_df = pd.read_csv('../data/raw/zipcodes_num_nl_new.csv')\n",
    "post_code_df.head()"
   ],
   "metadata": {
    "collapsed": false,
    "ExecuteTime": {
     "end_time": "2024-03-01T16:05:53.173520Z",
     "start_time": "2024-03-01T16:05:53.165400Z"
    }
   },
   "id": "976d1cdb9b885700",
   "execution_count": 16
  },
  {
   "cell_type": "code",
   "outputs": [],
   "source": [
    "def parse_year(year):\n",
    "    return pd.to_datetime(str(year), format='%Y')"
   ],
   "metadata": {
    "collapsed": false,
    "ExecuteTime": {
     "end_time": "2024-03-01T16:05:53.806524Z",
     "start_time": "2024-03-01T16:05:53.804191Z"
    }
   },
   "id": "6b0c9f6f03c47099",
   "execution_count": 17
  },
  {
   "cell_type": "code",
   "outputs": [
    {
     "data": {
      "text/plain": "         ID  Locality  Postal Code Build Year  Facades  Habitable Surface  \\\n0  11149965   Waremme         4300       1974      3.0              115.0   \n1  11149932  Wetteren         9230       2015      3.0              134.0   \n2  11150061   Ixelles         1050       1958      2.0              134.0   \n3  11153822   BERCHEM         2600       1968      2.0               90.0   \n4  11153121     Jette         1090       1965      2.0               80.0   \n\n   Land Surface       Type    Subtype   Price  ... Has starting Price  \\\n0           NaN  APARTMENT  APARTMENT  220000  ...              False   \n1           NaN  APARTMENT     DUPLEX  339000  ...              False   \n2           NaN  APARTMENT  APARTMENT  495000  ...              False   \n3           NaN  APARTMENT  APARTMENT  175000  ...                NaN   \n4           NaN  APARTMENT  APARTMENT  289000  ...              False   \n\n   Transaction Subtype  Heating Type  Is Holiday Property  \\\n0          BUY_REGULAR       FUELOIL                  NaN   \n1          BUY_REGULAR           GAS                  NaN   \n2          BUY_REGULAR           GAS                  NaN   \n3          BUY_REGULAR           NaN                  NaN   \n4          BUY_REGULAR           NaN                  NaN   \n\n   Gas Water Electricity  Sewer  Sea view Parking count inside  \\\n0                    NaN    NaN       NaN                  1.0   \n1                    NaN    NaN       NaN                  NaN   \n2                    NaN    NaN       NaN                  NaN   \n3                    NaN    NaN       NaN                  NaN   \n4                    NaN    NaN       NaN                  NaN   \n\n   Parking count outside  Parking box count  \n0                    1.0                NaN  \n1                    1.0                NaN  \n2                    NaN                NaN  \n3                    1.0                NaN  \n4                    NaN                NaN  \n\n[5 rows x 43 columns]",
      "text/html": "<div>\n<style scoped>\n    .dataframe tbody tr th:only-of-type {\n        vertical-align: middle;\n    }\n\n    .dataframe tbody tr th {\n        vertical-align: top;\n    }\n\n    .dataframe thead th {\n        text-align: right;\n    }\n</style>\n<table border=\"1\" class=\"dataframe\">\n  <thead>\n    <tr style=\"text-align: right;\">\n      <th></th>\n      <th>ID</th>\n      <th>Locality</th>\n      <th>Postal Code</th>\n      <th>Build Year</th>\n      <th>Facades</th>\n      <th>Habitable Surface</th>\n      <th>Land Surface</th>\n      <th>Type</th>\n      <th>Subtype</th>\n      <th>Price</th>\n      <th>...</th>\n      <th>Has starting Price</th>\n      <th>Transaction Subtype</th>\n      <th>Heating Type</th>\n      <th>Is Holiday Property</th>\n      <th>Gas Water Electricity</th>\n      <th>Sewer</th>\n      <th>Sea view</th>\n      <th>Parking count inside</th>\n      <th>Parking count outside</th>\n      <th>Parking box count</th>\n    </tr>\n  </thead>\n  <tbody>\n    <tr>\n      <th>0</th>\n      <td>11149965</td>\n      <td>Waremme</td>\n      <td>4300</td>\n      <td>1974</td>\n      <td>3.0</td>\n      <td>115.0</td>\n      <td>NaN</td>\n      <td>APARTMENT</td>\n      <td>APARTMENT</td>\n      <td>220000</td>\n      <td>...</td>\n      <td>False</td>\n      <td>BUY_REGULAR</td>\n      <td>FUELOIL</td>\n      <td>NaN</td>\n      <td>NaN</td>\n      <td>NaN</td>\n      <td>NaN</td>\n      <td>1.0</td>\n      <td>1.0</td>\n      <td>NaN</td>\n    </tr>\n    <tr>\n      <th>1</th>\n      <td>11149932</td>\n      <td>Wetteren</td>\n      <td>9230</td>\n      <td>2015</td>\n      <td>3.0</td>\n      <td>134.0</td>\n      <td>NaN</td>\n      <td>APARTMENT</td>\n      <td>DUPLEX</td>\n      <td>339000</td>\n      <td>...</td>\n      <td>False</td>\n      <td>BUY_REGULAR</td>\n      <td>GAS</td>\n      <td>NaN</td>\n      <td>NaN</td>\n      <td>NaN</td>\n      <td>NaN</td>\n      <td>NaN</td>\n      <td>1.0</td>\n      <td>NaN</td>\n    </tr>\n    <tr>\n      <th>2</th>\n      <td>11150061</td>\n      <td>Ixelles</td>\n      <td>1050</td>\n      <td>1958</td>\n      <td>2.0</td>\n      <td>134.0</td>\n      <td>NaN</td>\n      <td>APARTMENT</td>\n      <td>APARTMENT</td>\n      <td>495000</td>\n      <td>...</td>\n      <td>False</td>\n      <td>BUY_REGULAR</td>\n      <td>GAS</td>\n      <td>NaN</td>\n      <td>NaN</td>\n      <td>NaN</td>\n      <td>NaN</td>\n      <td>NaN</td>\n      <td>NaN</td>\n      <td>NaN</td>\n    </tr>\n    <tr>\n      <th>3</th>\n      <td>11153822</td>\n      <td>BERCHEM</td>\n      <td>2600</td>\n      <td>1968</td>\n      <td>2.0</td>\n      <td>90.0</td>\n      <td>NaN</td>\n      <td>APARTMENT</td>\n      <td>APARTMENT</td>\n      <td>175000</td>\n      <td>...</td>\n      <td>NaN</td>\n      <td>BUY_REGULAR</td>\n      <td>NaN</td>\n      <td>NaN</td>\n      <td>NaN</td>\n      <td>NaN</td>\n      <td>NaN</td>\n      <td>NaN</td>\n      <td>1.0</td>\n      <td>NaN</td>\n    </tr>\n    <tr>\n      <th>4</th>\n      <td>11153121</td>\n      <td>Jette</td>\n      <td>1090</td>\n      <td>1965</td>\n      <td>2.0</td>\n      <td>80.0</td>\n      <td>NaN</td>\n      <td>APARTMENT</td>\n      <td>APARTMENT</td>\n      <td>289000</td>\n      <td>...</td>\n      <td>False</td>\n      <td>BUY_REGULAR</td>\n      <td>NaN</td>\n      <td>NaN</td>\n      <td>NaN</td>\n      <td>NaN</td>\n      <td>NaN</td>\n      <td>NaN</td>\n      <td>NaN</td>\n      <td>NaN</td>\n    </tr>\n  </tbody>\n</table>\n<p>5 rows × 43 columns</p>\n</div>"
     },
     "execution_count": 18,
     "metadata": {},
     "output_type": "execute_result"
    }
   ],
   "source": [
    "immo_raw_df = pd.read_csv('../data/raw/rawdata.csv', parse_dates=['Build Year'], date_format=parse_year)\n",
    "immo_raw_df.head()"
   ],
   "metadata": {
    "collapsed": false,
    "ExecuteTime": {
     "end_time": "2024-03-01T16:05:54.494483Z",
     "start_time": "2024-03-01T16:05:54.422368Z"
    }
   },
   "id": "23e5eda2b8ffe930",
   "execution_count": 18
  },
  {
   "cell_type": "code",
   "outputs": [
    {
     "data": {
      "text/plain": "             ID     Locality  Postal Code Build Year  Facades  \\\n0      11149965      Waremme         4300       1974      3.0   \n1      11149965      Waremme         4300       1974      3.0   \n2      11149965      Waremme         4300       1974      3.0   \n3      11149965      Waremme         4300       1974      3.0   \n4      11149965      Waremme         4300       1974      3.0   \n...         ...          ...          ...        ...      ...   \n28712  11162921       Gistel         8470       1958      2.0   \n28713  11162917       EDEGEM         2650       1951      2.0   \n28714  11162916  Erps-Kwerps         3071       1991      4.0   \n28715  11101285    Vilvoorde         1800       2002      3.0   \n28716  11101285    Vilvoorde         1800       2002      3.0   \n\n       Habitable Surface  Land Surface       Type    Subtype   Price  ...  \\\n0                  115.0           NaN  APARTMENT  APARTMENT  220000  ...   \n1                  115.0           NaN  APARTMENT  APARTMENT  220000  ...   \n2                  115.0           NaN  APARTMENT  APARTMENT  220000  ...   \n3                  115.0           NaN  APARTMENT  APARTMENT  220000  ...   \n4                  115.0           NaN  APARTMENT  APARTMENT  220000  ...   \n...                  ...           ...        ...        ...     ...  ...   \n28712              270.0         923.0      HOUSE      HOUSE  325000  ...   \n28713               69.0           NaN  APARTMENT  APARTMENT  175000  ...   \n28714              390.0        1778.0      HOUSE      VILLA  899000  ...   \n28715               90.0           NaN  APARTMENT  APARTMENT  259000  ...   \n28716               90.0           NaN  APARTMENT  APARTMENT  259000  ...   \n\n           Sewer  Sea view  Parking count inside  Parking count outside  \\\n0            NaN       NaN                   1.0                    1.0   \n1            NaN       NaN                   1.0                    1.0   \n2            NaN       NaN                   1.0                    1.0   \n3            NaN       NaN                   1.0                    1.0   \n4            NaN       NaN                   1.0                    1.0   \n...          ...       ...                   ...                    ...   \n28712  CONNECTED       NaN                   1.0                    NaN   \n28713        NaN       NaN                   NaN                    NaN   \n28714  CONNECTED       NaN                   2.0                    3.0   \n28715        NaN       NaN                   1.0                    NaN   \n28716        NaN       NaN                   1.0                    NaN   \n\n       Parking box count  Postcode   Plaatsnaam Deelgemeente  Hoofdgemeente  \\\n0                    NaN      4300  Bettincourt           Ja        WAREMME   \n1                    NaN      4300       Bleret           Ja        WAREMME   \n2                    NaN      4300  Bovenistier           Ja        WAREMME   \n3                    NaN      4300   Grand-Axhe           Ja        WAREMME   \n4                    NaN      4300  Lantremange           Ja        WAREMME   \n...                  ...       ...          ...          ...            ...   \n28712                NaN      8470     Zevekote           Ja         GISTEL   \n28713                NaN      2650       Edegem         Neen         EDEGEM   \n28714                NaN      3071  Erps-Kwerps           Ja     KORTENBERG   \n28715                NaN      1800       Peutie           Ja      VILVOORDE   \n28716                NaN      1800    Vilvoorde         Neen      VILVOORDE   \n\n             Provincie  \n0                 LUIK  \n1                 LUIK  \n2                 LUIK  \n3                 LUIK  \n4                 LUIK  \n...                ...  \n28712  WEST-VLAANDEREN  \n28713        ANTWERPEN  \n28714   VLAAMS-BRABANT  \n28715   VLAAMS-BRABANT  \n28716   VLAAMS-BRABANT  \n\n[28717 rows x 48 columns]",
      "text/html": "<div>\n<style scoped>\n    .dataframe tbody tr th:only-of-type {\n        vertical-align: middle;\n    }\n\n    .dataframe tbody tr th {\n        vertical-align: top;\n    }\n\n    .dataframe thead th {\n        text-align: right;\n    }\n</style>\n<table border=\"1\" class=\"dataframe\">\n  <thead>\n    <tr style=\"text-align: right;\">\n      <th></th>\n      <th>ID</th>\n      <th>Locality</th>\n      <th>Postal Code</th>\n      <th>Build Year</th>\n      <th>Facades</th>\n      <th>Habitable Surface</th>\n      <th>Land Surface</th>\n      <th>Type</th>\n      <th>Subtype</th>\n      <th>Price</th>\n      <th>...</th>\n      <th>Sewer</th>\n      <th>Sea view</th>\n      <th>Parking count inside</th>\n      <th>Parking count outside</th>\n      <th>Parking box count</th>\n      <th>Postcode</th>\n      <th>Plaatsnaam</th>\n      <th>Deelgemeente</th>\n      <th>Hoofdgemeente</th>\n      <th>Provincie</th>\n    </tr>\n  </thead>\n  <tbody>\n    <tr>\n      <th>0</th>\n      <td>11149965</td>\n      <td>Waremme</td>\n      <td>4300</td>\n      <td>1974</td>\n      <td>3.0</td>\n      <td>115.0</td>\n      <td>NaN</td>\n      <td>APARTMENT</td>\n      <td>APARTMENT</td>\n      <td>220000</td>\n      <td>...</td>\n      <td>NaN</td>\n      <td>NaN</td>\n      <td>1.0</td>\n      <td>1.0</td>\n      <td>NaN</td>\n      <td>4300</td>\n      <td>Bettincourt</td>\n      <td>Ja</td>\n      <td>WAREMME</td>\n      <td>LUIK</td>\n    </tr>\n    <tr>\n      <th>1</th>\n      <td>11149965</td>\n      <td>Waremme</td>\n      <td>4300</td>\n      <td>1974</td>\n      <td>3.0</td>\n      <td>115.0</td>\n      <td>NaN</td>\n      <td>APARTMENT</td>\n      <td>APARTMENT</td>\n      <td>220000</td>\n      <td>...</td>\n      <td>NaN</td>\n      <td>NaN</td>\n      <td>1.0</td>\n      <td>1.0</td>\n      <td>NaN</td>\n      <td>4300</td>\n      <td>Bleret</td>\n      <td>Ja</td>\n      <td>WAREMME</td>\n      <td>LUIK</td>\n    </tr>\n    <tr>\n      <th>2</th>\n      <td>11149965</td>\n      <td>Waremme</td>\n      <td>4300</td>\n      <td>1974</td>\n      <td>3.0</td>\n      <td>115.0</td>\n      <td>NaN</td>\n      <td>APARTMENT</td>\n      <td>APARTMENT</td>\n      <td>220000</td>\n      <td>...</td>\n      <td>NaN</td>\n      <td>NaN</td>\n      <td>1.0</td>\n      <td>1.0</td>\n      <td>NaN</td>\n      <td>4300</td>\n      <td>Bovenistier</td>\n      <td>Ja</td>\n      <td>WAREMME</td>\n      <td>LUIK</td>\n    </tr>\n    <tr>\n      <th>3</th>\n      <td>11149965</td>\n      <td>Waremme</td>\n      <td>4300</td>\n      <td>1974</td>\n      <td>3.0</td>\n      <td>115.0</td>\n      <td>NaN</td>\n      <td>APARTMENT</td>\n      <td>APARTMENT</td>\n      <td>220000</td>\n      <td>...</td>\n      <td>NaN</td>\n      <td>NaN</td>\n      <td>1.0</td>\n      <td>1.0</td>\n      <td>NaN</td>\n      <td>4300</td>\n      <td>Grand-Axhe</td>\n      <td>Ja</td>\n      <td>WAREMME</td>\n      <td>LUIK</td>\n    </tr>\n    <tr>\n      <th>4</th>\n      <td>11149965</td>\n      <td>Waremme</td>\n      <td>4300</td>\n      <td>1974</td>\n      <td>3.0</td>\n      <td>115.0</td>\n      <td>NaN</td>\n      <td>APARTMENT</td>\n      <td>APARTMENT</td>\n      <td>220000</td>\n      <td>...</td>\n      <td>NaN</td>\n      <td>NaN</td>\n      <td>1.0</td>\n      <td>1.0</td>\n      <td>NaN</td>\n      <td>4300</td>\n      <td>Lantremange</td>\n      <td>Ja</td>\n      <td>WAREMME</td>\n      <td>LUIK</td>\n    </tr>\n    <tr>\n      <th>...</th>\n      <td>...</td>\n      <td>...</td>\n      <td>...</td>\n      <td>...</td>\n      <td>...</td>\n      <td>...</td>\n      <td>...</td>\n      <td>...</td>\n      <td>...</td>\n      <td>...</td>\n      <td>...</td>\n      <td>...</td>\n      <td>...</td>\n      <td>...</td>\n      <td>...</td>\n      <td>...</td>\n      <td>...</td>\n      <td>...</td>\n      <td>...</td>\n      <td>...</td>\n      <td>...</td>\n    </tr>\n    <tr>\n      <th>28712</th>\n      <td>11162921</td>\n      <td>Gistel</td>\n      <td>8470</td>\n      <td>1958</td>\n      <td>2.0</td>\n      <td>270.0</td>\n      <td>923.0</td>\n      <td>HOUSE</td>\n      <td>HOUSE</td>\n      <td>325000</td>\n      <td>...</td>\n      <td>CONNECTED</td>\n      <td>NaN</td>\n      <td>1.0</td>\n      <td>NaN</td>\n      <td>NaN</td>\n      <td>8470</td>\n      <td>Zevekote</td>\n      <td>Ja</td>\n      <td>GISTEL</td>\n      <td>WEST-VLAANDEREN</td>\n    </tr>\n    <tr>\n      <th>28713</th>\n      <td>11162917</td>\n      <td>EDEGEM</td>\n      <td>2650</td>\n      <td>1951</td>\n      <td>2.0</td>\n      <td>69.0</td>\n      <td>NaN</td>\n      <td>APARTMENT</td>\n      <td>APARTMENT</td>\n      <td>175000</td>\n      <td>...</td>\n      <td>NaN</td>\n      <td>NaN</td>\n      <td>NaN</td>\n      <td>NaN</td>\n      <td>NaN</td>\n      <td>2650</td>\n      <td>Edegem</td>\n      <td>Neen</td>\n      <td>EDEGEM</td>\n      <td>ANTWERPEN</td>\n    </tr>\n    <tr>\n      <th>28714</th>\n      <td>11162916</td>\n      <td>Erps-Kwerps</td>\n      <td>3071</td>\n      <td>1991</td>\n      <td>4.0</td>\n      <td>390.0</td>\n      <td>1778.0</td>\n      <td>HOUSE</td>\n      <td>VILLA</td>\n      <td>899000</td>\n      <td>...</td>\n      <td>CONNECTED</td>\n      <td>NaN</td>\n      <td>2.0</td>\n      <td>3.0</td>\n      <td>NaN</td>\n      <td>3071</td>\n      <td>Erps-Kwerps</td>\n      <td>Ja</td>\n      <td>KORTENBERG</td>\n      <td>VLAAMS-BRABANT</td>\n    </tr>\n    <tr>\n      <th>28715</th>\n      <td>11101285</td>\n      <td>Vilvoorde</td>\n      <td>1800</td>\n      <td>2002</td>\n      <td>3.0</td>\n      <td>90.0</td>\n      <td>NaN</td>\n      <td>APARTMENT</td>\n      <td>APARTMENT</td>\n      <td>259000</td>\n      <td>...</td>\n      <td>NaN</td>\n      <td>NaN</td>\n      <td>1.0</td>\n      <td>NaN</td>\n      <td>NaN</td>\n      <td>1800</td>\n      <td>Peutie</td>\n      <td>Ja</td>\n      <td>VILVOORDE</td>\n      <td>VLAAMS-BRABANT</td>\n    </tr>\n    <tr>\n      <th>28716</th>\n      <td>11101285</td>\n      <td>Vilvoorde</td>\n      <td>1800</td>\n      <td>2002</td>\n      <td>3.0</td>\n      <td>90.0</td>\n      <td>NaN</td>\n      <td>APARTMENT</td>\n      <td>APARTMENT</td>\n      <td>259000</td>\n      <td>...</td>\n      <td>NaN</td>\n      <td>NaN</td>\n      <td>1.0</td>\n      <td>NaN</td>\n      <td>NaN</td>\n      <td>1800</td>\n      <td>Vilvoorde</td>\n      <td>Neen</td>\n      <td>VILVOORDE</td>\n      <td>VLAAMS-BRABANT</td>\n    </tr>\n  </tbody>\n</table>\n<p>28717 rows × 48 columns</p>\n</div>"
     },
     "execution_count": 25,
     "metadata": {},
     "output_type": "execute_result"
    }
   ],
   "source": [
    "immo_post_code = pd.merge(immo_raw_df, post_code_df, left_on='Postal Code', right_on='Postcode', how='inner')\n",
    "immo_post_code"
   ],
   "metadata": {
    "collapsed": false,
    "ExecuteTime": {
     "end_time": "2024-03-01T16:08:25.284243Z",
     "start_time": "2024-03-01T16:08:25.254955Z"
    }
   },
   "id": "586bda893b965a88",
   "execution_count": 25
  },
  {
   "cell_type": "code",
   "outputs": [
    {
     "data": {
      "text/plain": "             ID     Locality  Postal Code Build Year  Facades  \\\n0      11149965      Waremme         4300       1974      3.0   \n1      11149965      Waremme         4300       1974      3.0   \n2      11149965      Waremme         4300       1974      3.0   \n3      11149965      Waremme         4300       1974      3.0   \n4      11149965      Waremme         4300       1974      3.0   \n...         ...          ...          ...        ...      ...   \n28712  11162921       Gistel         8470       1958      2.0   \n28713  11162917       EDEGEM         2650       1951      2.0   \n28714  11162916  Erps-Kwerps         3071       1991      4.0   \n28715  11101285    Vilvoorde         1800       2002      3.0   \n28716  11101285    Vilvoorde         1800       2002      3.0   \n\n       Habitable Surface  Land Surface       Type    Subtype   Price  ...  \\\n0                  115.0           NaN  APARTMENT  APARTMENT  220000  ...   \n1                  115.0           NaN  APARTMENT  APARTMENT  220000  ...   \n2                  115.0           NaN  APARTMENT  APARTMENT  220000  ...   \n3                  115.0           NaN  APARTMENT  APARTMENT  220000  ...   \n4                  115.0           NaN  APARTMENT  APARTMENT  220000  ...   \n...                  ...           ...        ...        ...     ...  ...   \n28712              270.0         923.0      HOUSE      HOUSE  325000  ...   \n28713               69.0           NaN  APARTMENT  APARTMENT  175000  ...   \n28714              390.0        1778.0      HOUSE      VILLA  899000  ...   \n28715               90.0           NaN  APARTMENT  APARTMENT  259000  ...   \n28716               90.0           NaN  APARTMENT  APARTMENT  259000  ...   \n\n      Heating Type  Is Holiday Property  Gas Water Electricity      Sewer  \\\n0          FUELOIL                  NaN                    NaN        NaN   \n1          FUELOIL                  NaN                    NaN        NaN   \n2          FUELOIL                  NaN                    NaN        NaN   \n3          FUELOIL                  NaN                    NaN        NaN   \n4          FUELOIL                  NaN                    NaN        NaN   \n...            ...                  ...                    ...        ...   \n28712          GAS                  NaN                   True  CONNECTED   \n28713          GAS                  NaN                    NaN        NaN   \n28714      FUELOIL                  NaN                   True  CONNECTED   \n28715          GAS                  NaN                    NaN        NaN   \n28716          GAS                  NaN                    NaN        NaN   \n\n       Sea view  Parking count inside  Parking count outside  \\\n0           NaN                   1.0                    1.0   \n1           NaN                   1.0                    1.0   \n2           NaN                   1.0                    1.0   \n3           NaN                   1.0                    1.0   \n4           NaN                   1.0                    1.0   \n...         ...                   ...                    ...   \n28712       NaN                   1.0                    NaN   \n28713       NaN                   NaN                    NaN   \n28714       NaN                   2.0                    3.0   \n28715       NaN                   1.0                    NaN   \n28716       NaN                   1.0                    NaN   \n\n      Parking box count  Municipality         Province  \n0                   NaN       WAREMME             LUIK  \n1                   NaN       WAREMME             LUIK  \n2                   NaN       WAREMME             LUIK  \n3                   NaN       WAREMME             LUIK  \n4                   NaN       WAREMME             LUIK  \n...                 ...           ...              ...  \n28712               NaN        GISTEL  WEST-VLAANDEREN  \n28713               NaN        EDEGEM        ANTWERPEN  \n28714               NaN    KORTENBERG   VLAAMS-BRABANT  \n28715               NaN     VILVOORDE   VLAAMS-BRABANT  \n28716               NaN     VILVOORDE   VLAAMS-BRABANT  \n\n[28717 rows x 45 columns]",
      "text/html": "<div>\n<style scoped>\n    .dataframe tbody tr th:only-of-type {\n        vertical-align: middle;\n    }\n\n    .dataframe tbody tr th {\n        vertical-align: top;\n    }\n\n    .dataframe thead th {\n        text-align: right;\n    }\n</style>\n<table border=\"1\" class=\"dataframe\">\n  <thead>\n    <tr style=\"text-align: right;\">\n      <th></th>\n      <th>ID</th>\n      <th>Locality</th>\n      <th>Postal Code</th>\n      <th>Build Year</th>\n      <th>Facades</th>\n      <th>Habitable Surface</th>\n      <th>Land Surface</th>\n      <th>Type</th>\n      <th>Subtype</th>\n      <th>Price</th>\n      <th>...</th>\n      <th>Heating Type</th>\n      <th>Is Holiday Property</th>\n      <th>Gas Water Electricity</th>\n      <th>Sewer</th>\n      <th>Sea view</th>\n      <th>Parking count inside</th>\n      <th>Parking count outside</th>\n      <th>Parking box count</th>\n      <th>Municipality</th>\n      <th>Province</th>\n    </tr>\n  </thead>\n  <tbody>\n    <tr>\n      <th>0</th>\n      <td>11149965</td>\n      <td>Waremme</td>\n      <td>4300</td>\n      <td>1974</td>\n      <td>3.0</td>\n      <td>115.0</td>\n      <td>NaN</td>\n      <td>APARTMENT</td>\n      <td>APARTMENT</td>\n      <td>220000</td>\n      <td>...</td>\n      <td>FUELOIL</td>\n      <td>NaN</td>\n      <td>NaN</td>\n      <td>NaN</td>\n      <td>NaN</td>\n      <td>1.0</td>\n      <td>1.0</td>\n      <td>NaN</td>\n      <td>WAREMME</td>\n      <td>LUIK</td>\n    </tr>\n    <tr>\n      <th>1</th>\n      <td>11149965</td>\n      <td>Waremme</td>\n      <td>4300</td>\n      <td>1974</td>\n      <td>3.0</td>\n      <td>115.0</td>\n      <td>NaN</td>\n      <td>APARTMENT</td>\n      <td>APARTMENT</td>\n      <td>220000</td>\n      <td>...</td>\n      <td>FUELOIL</td>\n      <td>NaN</td>\n      <td>NaN</td>\n      <td>NaN</td>\n      <td>NaN</td>\n      <td>1.0</td>\n      <td>1.0</td>\n      <td>NaN</td>\n      <td>WAREMME</td>\n      <td>LUIK</td>\n    </tr>\n    <tr>\n      <th>2</th>\n      <td>11149965</td>\n      <td>Waremme</td>\n      <td>4300</td>\n      <td>1974</td>\n      <td>3.0</td>\n      <td>115.0</td>\n      <td>NaN</td>\n      <td>APARTMENT</td>\n      <td>APARTMENT</td>\n      <td>220000</td>\n      <td>...</td>\n      <td>FUELOIL</td>\n      <td>NaN</td>\n      <td>NaN</td>\n      <td>NaN</td>\n      <td>NaN</td>\n      <td>1.0</td>\n      <td>1.0</td>\n      <td>NaN</td>\n      <td>WAREMME</td>\n      <td>LUIK</td>\n    </tr>\n    <tr>\n      <th>3</th>\n      <td>11149965</td>\n      <td>Waremme</td>\n      <td>4300</td>\n      <td>1974</td>\n      <td>3.0</td>\n      <td>115.0</td>\n      <td>NaN</td>\n      <td>APARTMENT</td>\n      <td>APARTMENT</td>\n      <td>220000</td>\n      <td>...</td>\n      <td>FUELOIL</td>\n      <td>NaN</td>\n      <td>NaN</td>\n      <td>NaN</td>\n      <td>NaN</td>\n      <td>1.0</td>\n      <td>1.0</td>\n      <td>NaN</td>\n      <td>WAREMME</td>\n      <td>LUIK</td>\n    </tr>\n    <tr>\n      <th>4</th>\n      <td>11149965</td>\n      <td>Waremme</td>\n      <td>4300</td>\n      <td>1974</td>\n      <td>3.0</td>\n      <td>115.0</td>\n      <td>NaN</td>\n      <td>APARTMENT</td>\n      <td>APARTMENT</td>\n      <td>220000</td>\n      <td>...</td>\n      <td>FUELOIL</td>\n      <td>NaN</td>\n      <td>NaN</td>\n      <td>NaN</td>\n      <td>NaN</td>\n      <td>1.0</td>\n      <td>1.0</td>\n      <td>NaN</td>\n      <td>WAREMME</td>\n      <td>LUIK</td>\n    </tr>\n    <tr>\n      <th>...</th>\n      <td>...</td>\n      <td>...</td>\n      <td>...</td>\n      <td>...</td>\n      <td>...</td>\n      <td>...</td>\n      <td>...</td>\n      <td>...</td>\n      <td>...</td>\n      <td>...</td>\n      <td>...</td>\n      <td>...</td>\n      <td>...</td>\n      <td>...</td>\n      <td>...</td>\n      <td>...</td>\n      <td>...</td>\n      <td>...</td>\n      <td>...</td>\n      <td>...</td>\n      <td>...</td>\n    </tr>\n    <tr>\n      <th>28712</th>\n      <td>11162921</td>\n      <td>Gistel</td>\n      <td>8470</td>\n      <td>1958</td>\n      <td>2.0</td>\n      <td>270.0</td>\n      <td>923.0</td>\n      <td>HOUSE</td>\n      <td>HOUSE</td>\n      <td>325000</td>\n      <td>...</td>\n      <td>GAS</td>\n      <td>NaN</td>\n      <td>True</td>\n      <td>CONNECTED</td>\n      <td>NaN</td>\n      <td>1.0</td>\n      <td>NaN</td>\n      <td>NaN</td>\n      <td>GISTEL</td>\n      <td>WEST-VLAANDEREN</td>\n    </tr>\n    <tr>\n      <th>28713</th>\n      <td>11162917</td>\n      <td>EDEGEM</td>\n      <td>2650</td>\n      <td>1951</td>\n      <td>2.0</td>\n      <td>69.0</td>\n      <td>NaN</td>\n      <td>APARTMENT</td>\n      <td>APARTMENT</td>\n      <td>175000</td>\n      <td>...</td>\n      <td>GAS</td>\n      <td>NaN</td>\n      <td>NaN</td>\n      <td>NaN</td>\n      <td>NaN</td>\n      <td>NaN</td>\n      <td>NaN</td>\n      <td>NaN</td>\n      <td>EDEGEM</td>\n      <td>ANTWERPEN</td>\n    </tr>\n    <tr>\n      <th>28714</th>\n      <td>11162916</td>\n      <td>Erps-Kwerps</td>\n      <td>3071</td>\n      <td>1991</td>\n      <td>4.0</td>\n      <td>390.0</td>\n      <td>1778.0</td>\n      <td>HOUSE</td>\n      <td>VILLA</td>\n      <td>899000</td>\n      <td>...</td>\n      <td>FUELOIL</td>\n      <td>NaN</td>\n      <td>True</td>\n      <td>CONNECTED</td>\n      <td>NaN</td>\n      <td>2.0</td>\n      <td>3.0</td>\n      <td>NaN</td>\n      <td>KORTENBERG</td>\n      <td>VLAAMS-BRABANT</td>\n    </tr>\n    <tr>\n      <th>28715</th>\n      <td>11101285</td>\n      <td>Vilvoorde</td>\n      <td>1800</td>\n      <td>2002</td>\n      <td>3.0</td>\n      <td>90.0</td>\n      <td>NaN</td>\n      <td>APARTMENT</td>\n      <td>APARTMENT</td>\n      <td>259000</td>\n      <td>...</td>\n      <td>GAS</td>\n      <td>NaN</td>\n      <td>NaN</td>\n      <td>NaN</td>\n      <td>NaN</td>\n      <td>1.0</td>\n      <td>NaN</td>\n      <td>NaN</td>\n      <td>VILVOORDE</td>\n      <td>VLAAMS-BRABANT</td>\n    </tr>\n    <tr>\n      <th>28716</th>\n      <td>11101285</td>\n      <td>Vilvoorde</td>\n      <td>1800</td>\n      <td>2002</td>\n      <td>3.0</td>\n      <td>90.0</td>\n      <td>NaN</td>\n      <td>APARTMENT</td>\n      <td>APARTMENT</td>\n      <td>259000</td>\n      <td>...</td>\n      <td>GAS</td>\n      <td>NaN</td>\n      <td>NaN</td>\n      <td>NaN</td>\n      <td>NaN</td>\n      <td>1.0</td>\n      <td>NaN</td>\n      <td>NaN</td>\n      <td>VILVOORDE</td>\n      <td>VLAAMS-BRABANT</td>\n    </tr>\n  </tbody>\n</table>\n<p>28717 rows × 45 columns</p>\n</div>"
     },
     "execution_count": 26,
     "metadata": {},
     "output_type": "execute_result"
    }
   ],
   "source": [
    "del immo_post_code['Postcode']\n",
    "del immo_post_code['Plaatsnaam']\n",
    "del immo_post_code['Deelgemeente']\n",
    "\n",
    "immo_post_code.rename(columns={'Hoofdgemeente':'Municipality', 'Provincie': 'Province'}, inplace=True)\n",
    "\n",
    "immo_post_code"
   ],
   "metadata": {
    "collapsed": false,
    "ExecuteTime": {
     "end_time": "2024-03-01T16:08:26.610226Z",
     "start_time": "2024-03-01T16:08:26.573113Z"
    }
   },
   "id": "453a1201b8b405b4",
   "execution_count": 26
  },
  {
   "cell_type": "code",
   "outputs": [],
   "source": [],
   "metadata": {
    "collapsed": false
   },
   "id": "48ec55abc65c0648"
  }
 ],
 "metadata": {
  "kernelspec": {
   "display_name": "Python 3",
   "language": "python",
   "name": "python3"
  },
  "language_info": {
   "codemirror_mode": {
    "name": "ipython",
    "version": 2
   },
   "file_extension": ".py",
   "mimetype": "text/x-python",
   "name": "python",
   "nbconvert_exporter": "python",
   "pygments_lexer": "ipython2",
   "version": "2.7.6"
  }
 },
 "nbformat": 4,
 "nbformat_minor": 5
}
