{
 "cells": [
  {
   "cell_type": "code",
   "execution_count": 2,
   "id": "initial_id",
   "metadata": {
    "collapsed": true,
    "ExecuteTime": {
     "end_time": "2024-03-05T18:29:22.717967Z",
     "start_time": "2024-03-05T18:29:22.710282Z"
    }
   },
   "outputs": [],
   "source": [
    "import pandas as pd\n",
    "import numpy as np\n",
    "import seaborn as sns\n",
    "import matplotlib.pyplot as plt"
   ]
  },
  {
   "cell_type": "code",
   "outputs": [],
   "source": [
    "immo_ap_data = pd.read_csv('../data/cleaned/immo_apartment_not_outliers.csv')"
   ],
   "metadata": {
    "collapsed": false,
    "ExecuteTime": {
     "end_time": "2024-03-05T18:29:23.351243Z",
     "start_time": "2024-03-05T18:29:23.320922Z"
    }
   },
   "id": "a8d4c0bf36fbf413",
   "execution_count": 3
  },
  {
   "cell_type": "code",
   "outputs": [
    {
     "data": {
      "text/plain": "    Price  Facades  Habitable Surface       Type  Bedroom Count  \\\n0  175000      2.0               90.0  APARTMENT            2.0   \n1  249000      2.0               83.0  APARTMENT            1.0   \n2  265000      3.0               82.0  APARTMENT            1.0   \n3  269000      3.0               82.0  APARTMENT            1.0   \n4  299000      3.0               94.0  APARTMENT            2.0   \n\n   Bathroom Count  Toilet Count  Room Count  Kitchen Type  Furnished  Terrace  \\\n0             1.0           1.0         4.0           1.0          0        1   \n1             1.0           1.0         3.0           1.0          0        1   \n2             1.0           1.0         3.0           1.0          0        1   \n3             1.0           1.0         3.0           1.0          0        1   \n4             1.0           1.0         4.0           1.0          0        1   \n\n   Terrace Surface  State of Building  Living Surface  EPC  \\\n0              7.0                3.0            37.0  5.0   \n1              2.0                3.0            41.0  5.0   \n2             13.0                3.0            42.0  5.0   \n3              8.0                3.0            35.0  5.0   \n4             13.0                3.0            29.0  5.0   \n\n   Consumption Per m2 Municipality   Province  APARTMENT  HOUSE  \n0          124.000000    ANTWERPEN  ANTWERPEN          1      0  \n1          188.000000      MORTSEL  ANTWERPEN          1      0  \n2          196.697603   HERENTHOUT  ANTWERPEN          1      0  \n3          196.697603   HERENTHOUT  ANTWERPEN          1      0  \n4          196.697603   HERENTHOUT  ANTWERPEN          1      0  ",
      "text/html": "<div>\n<style scoped>\n    .dataframe tbody tr th:only-of-type {\n        vertical-align: middle;\n    }\n\n    .dataframe tbody tr th {\n        vertical-align: top;\n    }\n\n    .dataframe thead th {\n        text-align: right;\n    }\n</style>\n<table border=\"1\" class=\"dataframe\">\n  <thead>\n    <tr style=\"text-align: right;\">\n      <th></th>\n      <th>Price</th>\n      <th>Facades</th>\n      <th>Habitable Surface</th>\n      <th>Type</th>\n      <th>Bedroom Count</th>\n      <th>Bathroom Count</th>\n      <th>Toilet Count</th>\n      <th>Room Count</th>\n      <th>Kitchen Type</th>\n      <th>Furnished</th>\n      <th>Terrace</th>\n      <th>Terrace Surface</th>\n      <th>State of Building</th>\n      <th>Living Surface</th>\n      <th>EPC</th>\n      <th>Consumption Per m2</th>\n      <th>Municipality</th>\n      <th>Province</th>\n      <th>APARTMENT</th>\n      <th>HOUSE</th>\n    </tr>\n  </thead>\n  <tbody>\n    <tr>\n      <th>0</th>\n      <td>175000</td>\n      <td>2.0</td>\n      <td>90.0</td>\n      <td>APARTMENT</td>\n      <td>2.0</td>\n      <td>1.0</td>\n      <td>1.0</td>\n      <td>4.0</td>\n      <td>1.0</td>\n      <td>0</td>\n      <td>1</td>\n      <td>7.0</td>\n      <td>3.0</td>\n      <td>37.0</td>\n      <td>5.0</td>\n      <td>124.000000</td>\n      <td>ANTWERPEN</td>\n      <td>ANTWERPEN</td>\n      <td>1</td>\n      <td>0</td>\n    </tr>\n    <tr>\n      <th>1</th>\n      <td>249000</td>\n      <td>2.0</td>\n      <td>83.0</td>\n      <td>APARTMENT</td>\n      <td>1.0</td>\n      <td>1.0</td>\n      <td>1.0</td>\n      <td>3.0</td>\n      <td>1.0</td>\n      <td>0</td>\n      <td>1</td>\n      <td>2.0</td>\n      <td>3.0</td>\n      <td>41.0</td>\n      <td>5.0</td>\n      <td>188.000000</td>\n      <td>MORTSEL</td>\n      <td>ANTWERPEN</td>\n      <td>1</td>\n      <td>0</td>\n    </tr>\n    <tr>\n      <th>2</th>\n      <td>265000</td>\n      <td>3.0</td>\n      <td>82.0</td>\n      <td>APARTMENT</td>\n      <td>1.0</td>\n      <td>1.0</td>\n      <td>1.0</td>\n      <td>3.0</td>\n      <td>1.0</td>\n      <td>0</td>\n      <td>1</td>\n      <td>13.0</td>\n      <td>3.0</td>\n      <td>42.0</td>\n      <td>5.0</td>\n      <td>196.697603</td>\n      <td>HERENTHOUT</td>\n      <td>ANTWERPEN</td>\n      <td>1</td>\n      <td>0</td>\n    </tr>\n    <tr>\n      <th>3</th>\n      <td>269000</td>\n      <td>3.0</td>\n      <td>82.0</td>\n      <td>APARTMENT</td>\n      <td>1.0</td>\n      <td>1.0</td>\n      <td>1.0</td>\n      <td>3.0</td>\n      <td>1.0</td>\n      <td>0</td>\n      <td>1</td>\n      <td>8.0</td>\n      <td>3.0</td>\n      <td>35.0</td>\n      <td>5.0</td>\n      <td>196.697603</td>\n      <td>HERENTHOUT</td>\n      <td>ANTWERPEN</td>\n      <td>1</td>\n      <td>0</td>\n    </tr>\n    <tr>\n      <th>4</th>\n      <td>299000</td>\n      <td>3.0</td>\n      <td>94.0</td>\n      <td>APARTMENT</td>\n      <td>2.0</td>\n      <td>1.0</td>\n      <td>1.0</td>\n      <td>4.0</td>\n      <td>1.0</td>\n      <td>0</td>\n      <td>1</td>\n      <td>13.0</td>\n      <td>3.0</td>\n      <td>29.0</td>\n      <td>5.0</td>\n      <td>196.697603</td>\n      <td>HERENTHOUT</td>\n      <td>ANTWERPEN</td>\n      <td>1</td>\n      <td>0</td>\n    </tr>\n  </tbody>\n</table>\n</div>"
     },
     "execution_count": 4,
     "metadata": {},
     "output_type": "execute_result"
    }
   ],
   "source": [
    "immo_ap_data.head()"
   ],
   "metadata": {
    "collapsed": false,
    "ExecuteTime": {
     "end_time": "2024-03-05T18:29:23.869430Z",
     "start_time": "2024-03-05T18:29:23.838827Z"
    }
   },
   "id": "d653257926045a2c",
   "execution_count": 4
  },
  {
   "cell_type": "code",
   "outputs": [],
   "source": [],
   "metadata": {
    "collapsed": false,
    "ExecuteTime": {
     "end_time": "2024-03-05T18:29:25.163193Z",
     "start_time": "2024-03-05T18:29:25.157578Z"
    }
   },
   "id": "9451f588e99fbfc3",
   "execution_count": 4
  },
  {
   "cell_type": "code",
   "outputs": [],
   "source": [],
   "metadata": {
    "collapsed": false
   },
   "id": "550dc83294367aa2"
  }
 ],
 "metadata": {
  "kernelspec": {
   "display_name": "Python 3",
   "language": "python",
   "name": "python3"
  },
  "language_info": {
   "codemirror_mode": {
    "name": "ipython",
    "version": 2
   },
   "file_extension": ".py",
   "mimetype": "text/x-python",
   "name": "python",
   "nbconvert_exporter": "python",
   "pygments_lexer": "ipython2",
   "version": "2.7.6"
  }
 },
 "nbformat": 4,
 "nbformat_minor": 5
}
