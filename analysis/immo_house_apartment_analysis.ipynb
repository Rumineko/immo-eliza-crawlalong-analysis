{
 "cells": [
  {
   "cell_type": "code",
   "execution_count": 1,
   "id": "initial_id",
   "metadata": {
    "collapsed": true,
    "ExecuteTime": {
     "end_time": "2024-03-01T13:18:10.188965Z",
     "start_time": "2024-03-01T13:18:10.186887Z"
    }
   },
   "outputs": [],
   "source": [
    "import pandas as pd\n",
    "import numpy as np\n",
    "import seaborn as sns\n",
    "import matplotlib.pyplot as plt"
   ]
  },
  {
   "cell_type": "code",
   "outputs": [],
   "source": [
    "def parse_year(year):\n",
    "    return pd.to_datetime(str(year), format='%Y')"
   ],
   "metadata": {
    "collapsed": false,
    "ExecuteTime": {
     "end_time": "2024-03-01T13:18:17.675309Z",
     "start_time": "2024-03-01T13:18:17.673108Z"
    }
   },
   "id": "9626b5eb0e4dfbba",
   "execution_count": 2
  },
  {
   "cell_type": "code",
   "outputs": [
    {
     "data": {
      "text/plain": "         ID  Locality  Postal Code Build Year  Facades  Habitable Surface  \\\n0  11149965   Waremme         4300       1974      3.0              115.0   \n1  11149932  Wetteren         9230       2015      3.0              134.0   \n2  11150061   Ixelles         1050       1958      2.0              134.0   \n3  11153822   BERCHEM         2600       1968      2.0               90.0   \n4  11153121     Jette         1090       1965      2.0               80.0   \n\n   Land Surface       Type    Subtype   Price  ... Has starting Price  \\\n0           NaN  APARTMENT  APARTMENT  220000  ...              False   \n1           NaN  APARTMENT     DUPLEX  339000  ...              False   \n2           NaN  APARTMENT  APARTMENT  495000  ...              False   \n3           NaN  APARTMENT  APARTMENT  175000  ...                NaN   \n4           NaN  APARTMENT  APARTMENT  289000  ...              False   \n\n   Transaction Subtype  Heating Type  Is Holiday Property  \\\n0          BUY_REGULAR       FUELOIL                  NaN   \n1          BUY_REGULAR           GAS                  NaN   \n2          BUY_REGULAR           GAS                  NaN   \n3          BUY_REGULAR           NaN                  NaN   \n4          BUY_REGULAR           NaN                  NaN   \n\n   Gas Water Electricity  Sewer  Sea view Parking count inside  \\\n0                    NaN    NaN       NaN                  1.0   \n1                    NaN    NaN       NaN                  NaN   \n2                    NaN    NaN       NaN                  NaN   \n3                    NaN    NaN       NaN                  NaN   \n4                    NaN    NaN       NaN                  NaN   \n\n   Parking count outside  Parking box count  \n0                    1.0                NaN  \n1                    1.0                NaN  \n2                    NaN                NaN  \n3                    1.0                NaN  \n4                    NaN                NaN  \n\n[5 rows x 43 columns]",
      "text/html": "<div>\n<style scoped>\n    .dataframe tbody tr th:only-of-type {\n        vertical-align: middle;\n    }\n\n    .dataframe tbody tr th {\n        vertical-align: top;\n    }\n\n    .dataframe thead th {\n        text-align: right;\n    }\n</style>\n<table border=\"1\" class=\"dataframe\">\n  <thead>\n    <tr style=\"text-align: right;\">\n      <th></th>\n      <th>ID</th>\n      <th>Locality</th>\n      <th>Postal Code</th>\n      <th>Build Year</th>\n      <th>Facades</th>\n      <th>Habitable Surface</th>\n      <th>Land Surface</th>\n      <th>Type</th>\n      <th>Subtype</th>\n      <th>Price</th>\n      <th>...</th>\n      <th>Has starting Price</th>\n      <th>Transaction Subtype</th>\n      <th>Heating Type</th>\n      <th>Is Holiday Property</th>\n      <th>Gas Water Electricity</th>\n      <th>Sewer</th>\n      <th>Sea view</th>\n      <th>Parking count inside</th>\n      <th>Parking count outside</th>\n      <th>Parking box count</th>\n    </tr>\n  </thead>\n  <tbody>\n    <tr>\n      <th>0</th>\n      <td>11149965</td>\n      <td>Waremme</td>\n      <td>4300</td>\n      <td>1974</td>\n      <td>3.0</td>\n      <td>115.0</td>\n      <td>NaN</td>\n      <td>APARTMENT</td>\n      <td>APARTMENT</td>\n      <td>220000</td>\n      <td>...</td>\n      <td>False</td>\n      <td>BUY_REGULAR</td>\n      <td>FUELOIL</td>\n      <td>NaN</td>\n      <td>NaN</td>\n      <td>NaN</td>\n      <td>NaN</td>\n      <td>1.0</td>\n      <td>1.0</td>\n      <td>NaN</td>\n    </tr>\n    <tr>\n      <th>1</th>\n      <td>11149932</td>\n      <td>Wetteren</td>\n      <td>9230</td>\n      <td>2015</td>\n      <td>3.0</td>\n      <td>134.0</td>\n      <td>NaN</td>\n      <td>APARTMENT</td>\n      <td>DUPLEX</td>\n      <td>339000</td>\n      <td>...</td>\n      <td>False</td>\n      <td>BUY_REGULAR</td>\n      <td>GAS</td>\n      <td>NaN</td>\n      <td>NaN</td>\n      <td>NaN</td>\n      <td>NaN</td>\n      <td>NaN</td>\n      <td>1.0</td>\n      <td>NaN</td>\n    </tr>\n    <tr>\n      <th>2</th>\n      <td>11150061</td>\n      <td>Ixelles</td>\n      <td>1050</td>\n      <td>1958</td>\n      <td>2.0</td>\n      <td>134.0</td>\n      <td>NaN</td>\n      <td>APARTMENT</td>\n      <td>APARTMENT</td>\n      <td>495000</td>\n      <td>...</td>\n      <td>False</td>\n      <td>BUY_REGULAR</td>\n      <td>GAS</td>\n      <td>NaN</td>\n      <td>NaN</td>\n      <td>NaN</td>\n      <td>NaN</td>\n      <td>NaN</td>\n      <td>NaN</td>\n      <td>NaN</td>\n    </tr>\n    <tr>\n      <th>3</th>\n      <td>11153822</td>\n      <td>BERCHEM</td>\n      <td>2600</td>\n      <td>1968</td>\n      <td>2.0</td>\n      <td>90.0</td>\n      <td>NaN</td>\n      <td>APARTMENT</td>\n      <td>APARTMENT</td>\n      <td>175000</td>\n      <td>...</td>\n      <td>NaN</td>\n      <td>BUY_REGULAR</td>\n      <td>NaN</td>\n      <td>NaN</td>\n      <td>NaN</td>\n      <td>NaN</td>\n      <td>NaN</td>\n      <td>NaN</td>\n      <td>1.0</td>\n      <td>NaN</td>\n    </tr>\n    <tr>\n      <th>4</th>\n      <td>11153121</td>\n      <td>Jette</td>\n      <td>1090</td>\n      <td>1965</td>\n      <td>2.0</td>\n      <td>80.0</td>\n      <td>NaN</td>\n      <td>APARTMENT</td>\n      <td>APARTMENT</td>\n      <td>289000</td>\n      <td>...</td>\n      <td>False</td>\n      <td>BUY_REGULAR</td>\n      <td>NaN</td>\n      <td>NaN</td>\n      <td>NaN</td>\n      <td>NaN</td>\n      <td>NaN</td>\n      <td>NaN</td>\n      <td>NaN</td>\n      <td>NaN</td>\n    </tr>\n  </tbody>\n</table>\n<p>5 rows × 43 columns</p>\n</div>"
     },
     "execution_count": 139,
     "metadata": {},
     "output_type": "execute_result"
    }
   ],
   "source": [
    "immo_raw_df = pd.read_csv('../data/raw/rawdata.csv', parse_dates=['Build Year'], date_format=parse_year)\n",
    "immo_raw_df.head()"
   ],
   "metadata": {
    "collapsed": false,
    "ExecuteTime": {
     "end_time": "2024-03-01T15:05:19.642147Z",
     "start_time": "2024-03-01T15:05:19.568676Z"
    }
   },
   "id": "3fca449a68ec8dee",
   "execution_count": 139
  },
  {
   "cell_type": "code",
   "outputs": [
    {
     "data": {
      "text/plain": "                 ID   Postal Code      Facades  Habitable Surface  \\\ncount  1.238800e+04  12388.000000  9271.000000       11996.000000   \nmean   1.099838e+07   4302.356151     2.695610         134.342364   \nstd    3.796727e+05   3182.773362     0.835629         154.645256   \nmin    7.309243e+06   1000.000000     1.000000          12.000000   \n25%    1.101806e+07   1325.000000     2.000000          85.000000   \n50%    1.114095e+07   2960.000000     2.000000         107.000000   \n75%    1.115744e+07   7700.000000     3.000000         156.000000   \nmax    1.116304e+07   9990.000000     7.000000        7819.000000   \n\n       Land Surface         Price  Bedroom Count  Bathroom Count  \\\ncount   4168.000000  1.238800e+04   12302.000000    10904.000000   \nmean     817.716651  4.102685e+05       2.436758        1.300073   \nstd     2595.356915  3.105778e+05       1.361684        0.777219   \nmin        0.000000  3.000000e+04       0.000000        1.000000   \n25%      158.000000  2.600000e+05       2.000000        1.000000   \n50%      325.500000  3.342150e+05       2.000000        1.000000   \n75%      739.750000  4.500000e+05       3.000000        1.000000   \nmax    58835.000000  7.650000e+06      25.000000       20.000000   \n\n       Toilet Count    Room Count  Kitchen Surface  Fireplace Count  \\\ncount   9676.000000  12241.000000      4078.000000      2998.000000   \nmean       1.564283      4.843477        12.058117        -0.836224   \nstd        0.931616      2.704392        22.047361         0.551210   \nmin        1.000000      1.000000         1.000000        -1.000000   \n25%        1.000000      3.000000         7.000000        -1.000000   \n50%        1.000000      4.000000        10.000000        -1.000000   \n75%        2.000000      6.000000        14.000000        -1.000000   \nmax       21.000000     61.000000      1317.000000         2.000000   \n\n       Terrace Surface  Garden Surface  Living Surface  Consumption Per m2  \\\ncount      8104.000000     2097.000000     6048.000000         7938.000000   \nmean         19.514931      535.845970       34.988261          244.492479   \nstd          25.758694     2464.292061       54.341791          880.219367   \nmin           1.000000        1.000000        1.000000          -18.000000   \n25%           9.000000       55.000000       28.000000           84.000000   \n50%          12.000000      130.000000       32.000000          190.000000   \n75%          22.000000      355.000000       40.000000          303.000000   \nmax         973.000000    80000.000000     4146.000000        43792.000000   \n\n       Cadastral Income  Parking count inside  Parking count outside  \\\ncount      12388.000000           3894.000000            4361.000000   \nmean         347.101954             16.783770               7.650997   \nstd          741.985988            566.552584              21.739074   \nmin            0.000000              1.000000               1.000000   \n25%            0.000000              1.000000               1.000000   \n50%            0.000000              1.000000               1.000000   \n75%          530.000000              2.000000               3.000000   \nmax         9641.000000          25000.000000             155.000000   \n\n       Parking box count  \ncount                0.0  \nmean                 NaN  \nstd                  NaN  \nmin                  NaN  \n25%                  NaN  \n50%                  NaN  \n75%                  NaN  \nmax                  NaN  ",
      "text/html": "<div>\n<style scoped>\n    .dataframe tbody tr th:only-of-type {\n        vertical-align: middle;\n    }\n\n    .dataframe tbody tr th {\n        vertical-align: top;\n    }\n\n    .dataframe thead th {\n        text-align: right;\n    }\n</style>\n<table border=\"1\" class=\"dataframe\">\n  <thead>\n    <tr style=\"text-align: right;\">\n      <th></th>\n      <th>ID</th>\n      <th>Postal Code</th>\n      <th>Facades</th>\n      <th>Habitable Surface</th>\n      <th>Land Surface</th>\n      <th>Price</th>\n      <th>Bedroom Count</th>\n      <th>Bathroom Count</th>\n      <th>Toilet Count</th>\n      <th>Room Count</th>\n      <th>Kitchen Surface</th>\n      <th>Fireplace Count</th>\n      <th>Terrace Surface</th>\n      <th>Garden Surface</th>\n      <th>Living Surface</th>\n      <th>Consumption Per m2</th>\n      <th>Cadastral Income</th>\n      <th>Parking count inside</th>\n      <th>Parking count outside</th>\n      <th>Parking box count</th>\n    </tr>\n  </thead>\n  <tbody>\n    <tr>\n      <th>count</th>\n      <td>1.238800e+04</td>\n      <td>12388.000000</td>\n      <td>9271.000000</td>\n      <td>11996.000000</td>\n      <td>4168.000000</td>\n      <td>1.238800e+04</td>\n      <td>12302.000000</td>\n      <td>10904.000000</td>\n      <td>9676.000000</td>\n      <td>12241.000000</td>\n      <td>4078.000000</td>\n      <td>2998.000000</td>\n      <td>8104.000000</td>\n      <td>2097.000000</td>\n      <td>6048.000000</td>\n      <td>7938.000000</td>\n      <td>12388.000000</td>\n      <td>3894.000000</td>\n      <td>4361.000000</td>\n      <td>0.0</td>\n    </tr>\n    <tr>\n      <th>mean</th>\n      <td>1.099838e+07</td>\n      <td>4302.356151</td>\n      <td>2.695610</td>\n      <td>134.342364</td>\n      <td>817.716651</td>\n      <td>4.102685e+05</td>\n      <td>2.436758</td>\n      <td>1.300073</td>\n      <td>1.564283</td>\n      <td>4.843477</td>\n      <td>12.058117</td>\n      <td>-0.836224</td>\n      <td>19.514931</td>\n      <td>535.845970</td>\n      <td>34.988261</td>\n      <td>244.492479</td>\n      <td>347.101954</td>\n      <td>16.783770</td>\n      <td>7.650997</td>\n      <td>NaN</td>\n    </tr>\n    <tr>\n      <th>std</th>\n      <td>3.796727e+05</td>\n      <td>3182.773362</td>\n      <td>0.835629</td>\n      <td>154.645256</td>\n      <td>2595.356915</td>\n      <td>3.105778e+05</td>\n      <td>1.361684</td>\n      <td>0.777219</td>\n      <td>0.931616</td>\n      <td>2.704392</td>\n      <td>22.047361</td>\n      <td>0.551210</td>\n      <td>25.758694</td>\n      <td>2464.292061</td>\n      <td>54.341791</td>\n      <td>880.219367</td>\n      <td>741.985988</td>\n      <td>566.552584</td>\n      <td>21.739074</td>\n      <td>NaN</td>\n    </tr>\n    <tr>\n      <th>min</th>\n      <td>7.309243e+06</td>\n      <td>1000.000000</td>\n      <td>1.000000</td>\n      <td>12.000000</td>\n      <td>0.000000</td>\n      <td>3.000000e+04</td>\n      <td>0.000000</td>\n      <td>1.000000</td>\n      <td>1.000000</td>\n      <td>1.000000</td>\n      <td>1.000000</td>\n      <td>-1.000000</td>\n      <td>1.000000</td>\n      <td>1.000000</td>\n      <td>1.000000</td>\n      <td>-18.000000</td>\n      <td>0.000000</td>\n      <td>1.000000</td>\n      <td>1.000000</td>\n      <td>NaN</td>\n    </tr>\n    <tr>\n      <th>25%</th>\n      <td>1.101806e+07</td>\n      <td>1325.000000</td>\n      <td>2.000000</td>\n      <td>85.000000</td>\n      <td>158.000000</td>\n      <td>2.600000e+05</td>\n      <td>2.000000</td>\n      <td>1.000000</td>\n      <td>1.000000</td>\n      <td>3.000000</td>\n      <td>7.000000</td>\n      <td>-1.000000</td>\n      <td>9.000000</td>\n      <td>55.000000</td>\n      <td>28.000000</td>\n      <td>84.000000</td>\n      <td>0.000000</td>\n      <td>1.000000</td>\n      <td>1.000000</td>\n      <td>NaN</td>\n    </tr>\n    <tr>\n      <th>50%</th>\n      <td>1.114095e+07</td>\n      <td>2960.000000</td>\n      <td>2.000000</td>\n      <td>107.000000</td>\n      <td>325.500000</td>\n      <td>3.342150e+05</td>\n      <td>2.000000</td>\n      <td>1.000000</td>\n      <td>1.000000</td>\n      <td>4.000000</td>\n      <td>10.000000</td>\n      <td>-1.000000</td>\n      <td>12.000000</td>\n      <td>130.000000</td>\n      <td>32.000000</td>\n      <td>190.000000</td>\n      <td>0.000000</td>\n      <td>1.000000</td>\n      <td>1.000000</td>\n      <td>NaN</td>\n    </tr>\n    <tr>\n      <th>75%</th>\n      <td>1.115744e+07</td>\n      <td>7700.000000</td>\n      <td>3.000000</td>\n      <td>156.000000</td>\n      <td>739.750000</td>\n      <td>4.500000e+05</td>\n      <td>3.000000</td>\n      <td>1.000000</td>\n      <td>2.000000</td>\n      <td>6.000000</td>\n      <td>14.000000</td>\n      <td>-1.000000</td>\n      <td>22.000000</td>\n      <td>355.000000</td>\n      <td>40.000000</td>\n      <td>303.000000</td>\n      <td>530.000000</td>\n      <td>2.000000</td>\n      <td>3.000000</td>\n      <td>NaN</td>\n    </tr>\n    <tr>\n      <th>max</th>\n      <td>1.116304e+07</td>\n      <td>9990.000000</td>\n      <td>7.000000</td>\n      <td>7819.000000</td>\n      <td>58835.000000</td>\n      <td>7.650000e+06</td>\n      <td>25.000000</td>\n      <td>20.000000</td>\n      <td>21.000000</td>\n      <td>61.000000</td>\n      <td>1317.000000</td>\n      <td>2.000000</td>\n      <td>973.000000</td>\n      <td>80000.000000</td>\n      <td>4146.000000</td>\n      <td>43792.000000</td>\n      <td>9641.000000</td>\n      <td>25000.000000</td>\n      <td>155.000000</td>\n      <td>NaN</td>\n    </tr>\n  </tbody>\n</table>\n</div>"
     },
     "execution_count": 140,
     "metadata": {},
     "output_type": "execute_result"
    }
   ],
   "source": [
    "immo_raw_df.describe()"
   ],
   "metadata": {
    "collapsed": false,
    "ExecuteTime": {
     "end_time": "2024-03-01T15:05:23.851371Z",
     "start_time": "2024-03-01T15:05:23.816416Z"
    }
   },
   "id": "e2144e4c7f50e96c",
   "execution_count": 140
  },
  {
   "cell_type": "code",
   "outputs": [
    {
     "name": "stdout",
     "output_type": "stream",
     "text": [
      "<class 'pandas.core.frame.DataFrame'>\n",
      "RangeIndex: 12388 entries, 0 to 12387\n",
      "Data columns (total 43 columns):\n",
      " #   Column                 Non-Null Count  Dtype  \n",
      "---  ------                 --------------  -----  \n",
      " 0   ID                     12388 non-null  int64  \n",
      " 1   Locality               12388 non-null  object \n",
      " 2   Postal Code            12388 non-null  int64  \n",
      " 3   Build Year             9230 non-null   object \n",
      " 4   Facades                9271 non-null   float64\n",
      " 5   Habitable Surface      11996 non-null  float64\n",
      " 6   Land Surface           4168 non-null   float64\n",
      " 7   Type                   12388 non-null  object \n",
      " 8   Subtype                12388 non-null  object \n",
      " 9   Price                  12388 non-null  int64  \n",
      " 10  Sale Type              12388 non-null  object \n",
      " 11  Bedroom Count          12302 non-null  float64\n",
      " 12  Bathroom Count         10904 non-null  float64\n",
      " 13  Toilet Count           9676 non-null   float64\n",
      " 14  Room Count             12241 non-null  float64\n",
      " 15  Kitchen                12388 non-null  bool   \n",
      " 16  Kitchen Surface        4078 non-null   float64\n",
      " 17  Kitchen Type           9624 non-null   object \n",
      " 18  Furnished              12388 non-null  bool   \n",
      " 19  Openfire               12388 non-null  bool   \n",
      " 20  Fireplace Count        2998 non-null   float64\n",
      " 21  Terrace                12388 non-null  bool   \n",
      " 22  Terrace Surface        8104 non-null   float64\n",
      " 23  Terrace Orientation    306 non-null    object \n",
      " 24  Garden Exists          12388 non-null  bool   \n",
      " 25  Garden Surface         2097 non-null   float64\n",
      " 26  Garden Orientation     1045 non-null   object \n",
      " 27  Swimming Pool          5024 non-null   object \n",
      " 28  State of Building      8124 non-null   object \n",
      " 29  Living Surface         6048 non-null   float64\n",
      " 30  EPC                    8231 non-null   object \n",
      " 31  Consumption Per m2     7938 non-null   float64\n",
      " 32  Cadastral Income       12388 non-null  int64  \n",
      " 33  Has starting Price     11393 non-null  object \n",
      " 34  Transaction Subtype    12388 non-null  object \n",
      " 35  Heating Type           7236 non-null   object \n",
      " 36  Is Holiday Property    194 non-null    object \n",
      " 37  Gas Water Electricity  2602 non-null   object \n",
      " 38  Sewer                  2017 non-null   object \n",
      " 39  Sea view               11 non-null     object \n",
      " 40  Parking count inside   3894 non-null   float64\n",
      " 41  Parking count outside  4361 non-null   float64\n",
      " 42  Parking box count      0 non-null      float64\n",
      "dtypes: bool(5), float64(16), int64(4), object(18)\n",
      "memory usage: 3.7+ MB\n"
     ]
    }
   ],
   "source": [
    "immo_raw_df.info()"
   ],
   "metadata": {
    "collapsed": false,
    "ExecuteTime": {
     "end_time": "2024-03-01T15:05:29.813907Z",
     "start_time": "2024-03-01T15:05:29.791455Z"
    }
   },
   "id": "f95f86e494869ed0",
   "execution_count": 141
  },
  {
   "cell_type": "code",
   "outputs": [
    {
     "data": {
      "text/plain": "(12388, 43)"
     },
     "execution_count": 142,
     "metadata": {},
     "output_type": "execute_result"
    }
   ],
   "source": [
    "# Number of observations and columns\n",
    "immo_raw_df.shape"
   ],
   "metadata": {
    "collapsed": false,
    "ExecuteTime": {
     "end_time": "2024-03-01T15:05:35.981198Z",
     "start_time": "2024-03-01T15:05:35.977312Z"
    }
   },
   "id": "1ba4cfba6f70bd2c",
   "execution_count": 142
  },
  {
   "cell_type": "code",
   "outputs": [
    {
     "data": {
      "text/plain": "             ID     Locality  Postal Code Build Year  Facades  \\\n0      11149965      Waremme         4300       1974      3.0   \n1      11149932     Wetteren         9230       2015      3.0   \n2      11150061      Ixelles         1050       1958      2.0   \n3      11153822      BERCHEM         2600       1968      2.0   \n4      11153121        Jette         1090       1965      2.0   \n...         ...          ...          ...        ...      ...   \n12383  11162924    Zutendaal         3690       1991      4.0   \n12384  11162921       Gistel         8470       1958      2.0   \n12385  11162917       EDEGEM         2650       1951      2.0   \n12386  11162916  Erps-Kwerps         3071       1991      4.0   \n12387  11101285    Vilvoorde         1800       2002      3.0   \n\n       Habitable Surface  Land Surface       Type    Subtype   Price  ...  \\\n0                  115.0           NaN  APARTMENT  APARTMENT  220000  ...   \n1                  134.0           NaN  APARTMENT     DUPLEX  339000  ...   \n2                  134.0           NaN  APARTMENT  APARTMENT  495000  ...   \n3                   90.0           NaN  APARTMENT  APARTMENT  175000  ...   \n4                   80.0           NaN  APARTMENT  APARTMENT  289000  ...   \n...                  ...           ...        ...        ...     ...  ...   \n12383              206.0        1040.0      HOUSE      HOUSE  499000  ...   \n12384              270.0         923.0      HOUSE      HOUSE  325000  ...   \n12385               69.0           NaN  APARTMENT  APARTMENT  175000  ...   \n12386              390.0        1778.0      HOUSE      VILLA  899000  ...   \n12387               90.0           NaN  APARTMENT  APARTMENT  259000  ...   \n\n      Has starting Price  Transaction Subtype  Heating Type  \\\n0                  False          BUY_REGULAR       FUELOIL   \n1                  False          BUY_REGULAR           GAS   \n2                  False          BUY_REGULAR           GAS   \n3                    NaN          BUY_REGULAR           NaN   \n4                  False          BUY_REGULAR           NaN   \n...                  ...                  ...           ...   \n12383              False          BUY_REGULAR       FUELOIL   \n12384              False          BUY_REGULAR           GAS   \n12385                NaN          BUY_REGULAR           GAS   \n12386              False          BUY_REGULAR       FUELOIL   \n12387              False          BUY_REGULAR           GAS   \n\n       Is Holiday Property  Gas Water Electricity      Sewer  Sea view  \\\n0                      NaN                    NaN        NaN       NaN   \n1                      NaN                    NaN        NaN       NaN   \n2                      NaN                    NaN        NaN       NaN   \n3                      NaN                    NaN        NaN       NaN   \n4                      NaN                    NaN        NaN       NaN   \n...                    ...                    ...        ...       ...   \n12383                  NaN                   True  CONNECTED       NaN   \n12384                  NaN                   True  CONNECTED       NaN   \n12385                  NaN                    NaN        NaN       NaN   \n12386                  NaN                   True  CONNECTED       NaN   \n12387                  NaN                    NaN        NaN       NaN   \n\n      Parking count inside  Parking count outside  Parking box count  \n0                      1.0                    1.0                NaN  \n1                      NaN                    1.0                NaN  \n2                      NaN                    NaN                NaN  \n3                      NaN                    1.0                NaN  \n4                      NaN                    NaN                NaN  \n...                    ...                    ...                ...  \n12383                  NaN                    4.0                NaN  \n12384                  1.0                    NaN                NaN  \n12385                  NaN                    NaN                NaN  \n12386                  2.0                    3.0                NaN  \n12387                  1.0                    NaN                NaN  \n\n[12388 rows x 43 columns]",
      "text/html": "<div>\n<style scoped>\n    .dataframe tbody tr th:only-of-type {\n        vertical-align: middle;\n    }\n\n    .dataframe tbody tr th {\n        vertical-align: top;\n    }\n\n    .dataframe thead th {\n        text-align: right;\n    }\n</style>\n<table border=\"1\" class=\"dataframe\">\n  <thead>\n    <tr style=\"text-align: right;\">\n      <th></th>\n      <th>ID</th>\n      <th>Locality</th>\n      <th>Postal Code</th>\n      <th>Build Year</th>\n      <th>Facades</th>\n      <th>Habitable Surface</th>\n      <th>Land Surface</th>\n      <th>Type</th>\n      <th>Subtype</th>\n      <th>Price</th>\n      <th>...</th>\n      <th>Has starting Price</th>\n      <th>Transaction Subtype</th>\n      <th>Heating Type</th>\n      <th>Is Holiday Property</th>\n      <th>Gas Water Electricity</th>\n      <th>Sewer</th>\n      <th>Sea view</th>\n      <th>Parking count inside</th>\n      <th>Parking count outside</th>\n      <th>Parking box count</th>\n    </tr>\n  </thead>\n  <tbody>\n    <tr>\n      <th>0</th>\n      <td>11149965</td>\n      <td>Waremme</td>\n      <td>4300</td>\n      <td>1974</td>\n      <td>3.0</td>\n      <td>115.0</td>\n      <td>NaN</td>\n      <td>APARTMENT</td>\n      <td>APARTMENT</td>\n      <td>220000</td>\n      <td>...</td>\n      <td>False</td>\n      <td>BUY_REGULAR</td>\n      <td>FUELOIL</td>\n      <td>NaN</td>\n      <td>NaN</td>\n      <td>NaN</td>\n      <td>NaN</td>\n      <td>1.0</td>\n      <td>1.0</td>\n      <td>NaN</td>\n    </tr>\n    <tr>\n      <th>1</th>\n      <td>11149932</td>\n      <td>Wetteren</td>\n      <td>9230</td>\n      <td>2015</td>\n      <td>3.0</td>\n      <td>134.0</td>\n      <td>NaN</td>\n      <td>APARTMENT</td>\n      <td>DUPLEX</td>\n      <td>339000</td>\n      <td>...</td>\n      <td>False</td>\n      <td>BUY_REGULAR</td>\n      <td>GAS</td>\n      <td>NaN</td>\n      <td>NaN</td>\n      <td>NaN</td>\n      <td>NaN</td>\n      <td>NaN</td>\n      <td>1.0</td>\n      <td>NaN</td>\n    </tr>\n    <tr>\n      <th>2</th>\n      <td>11150061</td>\n      <td>Ixelles</td>\n      <td>1050</td>\n      <td>1958</td>\n      <td>2.0</td>\n      <td>134.0</td>\n      <td>NaN</td>\n      <td>APARTMENT</td>\n      <td>APARTMENT</td>\n      <td>495000</td>\n      <td>...</td>\n      <td>False</td>\n      <td>BUY_REGULAR</td>\n      <td>GAS</td>\n      <td>NaN</td>\n      <td>NaN</td>\n      <td>NaN</td>\n      <td>NaN</td>\n      <td>NaN</td>\n      <td>NaN</td>\n      <td>NaN</td>\n    </tr>\n    <tr>\n      <th>3</th>\n      <td>11153822</td>\n      <td>BERCHEM</td>\n      <td>2600</td>\n      <td>1968</td>\n      <td>2.0</td>\n      <td>90.0</td>\n      <td>NaN</td>\n      <td>APARTMENT</td>\n      <td>APARTMENT</td>\n      <td>175000</td>\n      <td>...</td>\n      <td>NaN</td>\n      <td>BUY_REGULAR</td>\n      <td>NaN</td>\n      <td>NaN</td>\n      <td>NaN</td>\n      <td>NaN</td>\n      <td>NaN</td>\n      <td>NaN</td>\n      <td>1.0</td>\n      <td>NaN</td>\n    </tr>\n    <tr>\n      <th>4</th>\n      <td>11153121</td>\n      <td>Jette</td>\n      <td>1090</td>\n      <td>1965</td>\n      <td>2.0</td>\n      <td>80.0</td>\n      <td>NaN</td>\n      <td>APARTMENT</td>\n      <td>APARTMENT</td>\n      <td>289000</td>\n      <td>...</td>\n      <td>False</td>\n      <td>BUY_REGULAR</td>\n      <td>NaN</td>\n      <td>NaN</td>\n      <td>NaN</td>\n      <td>NaN</td>\n      <td>NaN</td>\n      <td>NaN</td>\n      <td>NaN</td>\n      <td>NaN</td>\n    </tr>\n    <tr>\n      <th>...</th>\n      <td>...</td>\n      <td>...</td>\n      <td>...</td>\n      <td>...</td>\n      <td>...</td>\n      <td>...</td>\n      <td>...</td>\n      <td>...</td>\n      <td>...</td>\n      <td>...</td>\n      <td>...</td>\n      <td>...</td>\n      <td>...</td>\n      <td>...</td>\n      <td>...</td>\n      <td>...</td>\n      <td>...</td>\n      <td>...</td>\n      <td>...</td>\n      <td>...</td>\n      <td>...</td>\n    </tr>\n    <tr>\n      <th>12383</th>\n      <td>11162924</td>\n      <td>Zutendaal</td>\n      <td>3690</td>\n      <td>1991</td>\n      <td>4.0</td>\n      <td>206.0</td>\n      <td>1040.0</td>\n      <td>HOUSE</td>\n      <td>HOUSE</td>\n      <td>499000</td>\n      <td>...</td>\n      <td>False</td>\n      <td>BUY_REGULAR</td>\n      <td>FUELOIL</td>\n      <td>NaN</td>\n      <td>True</td>\n      <td>CONNECTED</td>\n      <td>NaN</td>\n      <td>NaN</td>\n      <td>4.0</td>\n      <td>NaN</td>\n    </tr>\n    <tr>\n      <th>12384</th>\n      <td>11162921</td>\n      <td>Gistel</td>\n      <td>8470</td>\n      <td>1958</td>\n      <td>2.0</td>\n      <td>270.0</td>\n      <td>923.0</td>\n      <td>HOUSE</td>\n      <td>HOUSE</td>\n      <td>325000</td>\n      <td>...</td>\n      <td>False</td>\n      <td>BUY_REGULAR</td>\n      <td>GAS</td>\n      <td>NaN</td>\n      <td>True</td>\n      <td>CONNECTED</td>\n      <td>NaN</td>\n      <td>1.0</td>\n      <td>NaN</td>\n      <td>NaN</td>\n    </tr>\n    <tr>\n      <th>12385</th>\n      <td>11162917</td>\n      <td>EDEGEM</td>\n      <td>2650</td>\n      <td>1951</td>\n      <td>2.0</td>\n      <td>69.0</td>\n      <td>NaN</td>\n      <td>APARTMENT</td>\n      <td>APARTMENT</td>\n      <td>175000</td>\n      <td>...</td>\n      <td>NaN</td>\n      <td>BUY_REGULAR</td>\n      <td>GAS</td>\n      <td>NaN</td>\n      <td>NaN</td>\n      <td>NaN</td>\n      <td>NaN</td>\n      <td>NaN</td>\n      <td>NaN</td>\n      <td>NaN</td>\n    </tr>\n    <tr>\n      <th>12386</th>\n      <td>11162916</td>\n      <td>Erps-Kwerps</td>\n      <td>3071</td>\n      <td>1991</td>\n      <td>4.0</td>\n      <td>390.0</td>\n      <td>1778.0</td>\n      <td>HOUSE</td>\n      <td>VILLA</td>\n      <td>899000</td>\n      <td>...</td>\n      <td>False</td>\n      <td>BUY_REGULAR</td>\n      <td>FUELOIL</td>\n      <td>NaN</td>\n      <td>True</td>\n      <td>CONNECTED</td>\n      <td>NaN</td>\n      <td>2.0</td>\n      <td>3.0</td>\n      <td>NaN</td>\n    </tr>\n    <tr>\n      <th>12387</th>\n      <td>11101285</td>\n      <td>Vilvoorde</td>\n      <td>1800</td>\n      <td>2002</td>\n      <td>3.0</td>\n      <td>90.0</td>\n      <td>NaN</td>\n      <td>APARTMENT</td>\n      <td>APARTMENT</td>\n      <td>259000</td>\n      <td>...</td>\n      <td>False</td>\n      <td>BUY_REGULAR</td>\n      <td>GAS</td>\n      <td>NaN</td>\n      <td>NaN</td>\n      <td>NaN</td>\n      <td>NaN</td>\n      <td>1.0</td>\n      <td>NaN</td>\n      <td>NaN</td>\n    </tr>\n  </tbody>\n</table>\n<p>12388 rows × 43 columns</p>\n</div>"
     },
     "execution_count": 143,
     "metadata": {},
     "output_type": "execute_result"
    }
   ],
   "source": [
    "# Changing the bool type to int {True: 1, False: 0}\n",
    "\n",
    "# Select bool columns\n",
    "boolean_columns = immo_raw_df.select_dtypes(include=bool).columns\n",
    "\n",
    "# Apply the lambda function to each element of the Boolean columns.\n",
    "immo_raw_df[boolean_columns] = immo_raw_df[boolean_columns].apply(lambda x: x.map({True: 1, False: 0}))\n",
    "\n",
    "\n",
    "# Change the data type of columns to int\n",
    "immo_raw_df[boolean_columns] = immo_raw_df[boolean_columns].astype(int)\n",
    "\n",
    "immo_raw_df"
   ],
   "metadata": {
    "collapsed": false,
    "ExecuteTime": {
     "end_time": "2024-03-01T15:06:14.318531Z",
     "start_time": "2024-03-01T15:06:14.299349Z"
    }
   },
   "id": "40337eaad158e0e2",
   "execution_count": 143
  },
  {
   "cell_type": "markdown",
   "source": [
    "# We have 12388 observations, one target (Price) and 42 features"
   ],
   "metadata": {
    "collapsed": false
   },
   "id": "7a6c600291053600"
  },
  {
   "cell_type": "code",
   "outputs": [
    {
     "data": {
      "text/plain": "array(['APARTMENT', 'HOUSE', 'OFFICE', 'COMMERCIAL', 'LAND', 'GARAGE'],\n      dtype=object)"
     },
     "execution_count": 144,
     "metadata": {},
     "output_type": "execute_result"
    }
   ],
   "source": [
    "# Displaying list of Property Types  \n",
    "\n",
    "immo_raw_df.Type.unique()"
   ],
   "metadata": {
    "collapsed": false,
    "ExecuteTime": {
     "end_time": "2024-03-01T15:06:22.710500Z",
     "start_time": "2024-03-01T15:06:22.700236Z"
    }
   },
   "id": "84e1ef928443ddd4",
   "execution_count": 144
  },
  {
   "cell_type": "code",
   "outputs": [
    {
     "data": {
      "text/plain": "             ID     Locality  Postal Code Build Year  Facades  \\\n0      11149965      Waremme         4300       1974      3.0   \n1      11149932     Wetteren         9230       2015      3.0   \n2      11150061      Ixelles         1050       1958      2.0   \n3      11153822      BERCHEM         2600       1968      2.0   \n4      11153121        Jette         1090       1965      2.0   \n...         ...          ...          ...        ...      ...   \n12383  11162924    Zutendaal         3690       1991      4.0   \n12384  11162921       Gistel         8470       1958      2.0   \n12385  11162917       EDEGEM         2650       1951      2.0   \n12386  11162916  Erps-Kwerps         3071       1991      4.0   \n12387  11101285    Vilvoorde         1800       2002      3.0   \n\n       Habitable Surface  Land Surface       Type    Subtype   Price  ...  \\\n0                  115.0           NaN  APARTMENT  APARTMENT  220000  ...   \n1                  134.0           NaN  APARTMENT     DUPLEX  339000  ...   \n2                  134.0           NaN  APARTMENT  APARTMENT  495000  ...   \n3                   90.0           NaN  APARTMENT  APARTMENT  175000  ...   \n4                   80.0           NaN  APARTMENT  APARTMENT  289000  ...   \n...                  ...           ...        ...        ...     ...  ...   \n12383              206.0        1040.0      HOUSE      HOUSE  499000  ...   \n12384              270.0         923.0      HOUSE      HOUSE  325000  ...   \n12385               69.0           NaN  APARTMENT  APARTMENT  175000  ...   \n12386              390.0        1778.0      HOUSE      VILLA  899000  ...   \n12387               90.0           NaN  APARTMENT  APARTMENT  259000  ...   \n\n      Has starting Price  Transaction Subtype  Heating Type  \\\n0                  False          BUY_REGULAR       FUELOIL   \n1                  False          BUY_REGULAR           GAS   \n2                  False          BUY_REGULAR           GAS   \n3                    NaN          BUY_REGULAR           NaN   \n4                  False          BUY_REGULAR           NaN   \n...                  ...                  ...           ...   \n12383              False          BUY_REGULAR       FUELOIL   \n12384              False          BUY_REGULAR           GAS   \n12385                NaN          BUY_REGULAR           GAS   \n12386              False          BUY_REGULAR       FUELOIL   \n12387              False          BUY_REGULAR           GAS   \n\n       Is Holiday Property  Gas Water Electricity      Sewer  Sea view  \\\n0                      NaN                    NaN        NaN       NaN   \n1                      NaN                    NaN        NaN       NaN   \n2                      NaN                    NaN        NaN       NaN   \n3                      NaN                    NaN        NaN       NaN   \n4                      NaN                    NaN        NaN       NaN   \n...                    ...                    ...        ...       ...   \n12383                  NaN                   True  CONNECTED       NaN   \n12384                  NaN                   True  CONNECTED       NaN   \n12385                  NaN                    NaN        NaN       NaN   \n12386                  NaN                   True  CONNECTED       NaN   \n12387                  NaN                    NaN        NaN       NaN   \n\n      Parking count inside  Parking count outside  Parking box count  \n0                      1.0                    1.0                NaN  \n1                      NaN                    1.0                NaN  \n2                      NaN                    NaN                NaN  \n3                      NaN                    1.0                NaN  \n4                      NaN                    NaN                NaN  \n...                    ...                    ...                ...  \n12383                  NaN                    4.0                NaN  \n12384                  1.0                    NaN                NaN  \n12385                  NaN                    NaN                NaN  \n12386                  2.0                    3.0                NaN  \n12387                  1.0                    NaN                NaN  \n\n[12302 rows x 43 columns]",
      "text/html": "<div>\n<style scoped>\n    .dataframe tbody tr th:only-of-type {\n        vertical-align: middle;\n    }\n\n    .dataframe tbody tr th {\n        vertical-align: top;\n    }\n\n    .dataframe thead th {\n        text-align: right;\n    }\n</style>\n<table border=\"1\" class=\"dataframe\">\n  <thead>\n    <tr style=\"text-align: right;\">\n      <th></th>\n      <th>ID</th>\n      <th>Locality</th>\n      <th>Postal Code</th>\n      <th>Build Year</th>\n      <th>Facades</th>\n      <th>Habitable Surface</th>\n      <th>Land Surface</th>\n      <th>Type</th>\n      <th>Subtype</th>\n      <th>Price</th>\n      <th>...</th>\n      <th>Has starting Price</th>\n      <th>Transaction Subtype</th>\n      <th>Heating Type</th>\n      <th>Is Holiday Property</th>\n      <th>Gas Water Electricity</th>\n      <th>Sewer</th>\n      <th>Sea view</th>\n      <th>Parking count inside</th>\n      <th>Parking count outside</th>\n      <th>Parking box count</th>\n    </tr>\n  </thead>\n  <tbody>\n    <tr>\n      <th>0</th>\n      <td>11149965</td>\n      <td>Waremme</td>\n      <td>4300</td>\n      <td>1974</td>\n      <td>3.0</td>\n      <td>115.0</td>\n      <td>NaN</td>\n      <td>APARTMENT</td>\n      <td>APARTMENT</td>\n      <td>220000</td>\n      <td>...</td>\n      <td>False</td>\n      <td>BUY_REGULAR</td>\n      <td>FUELOIL</td>\n      <td>NaN</td>\n      <td>NaN</td>\n      <td>NaN</td>\n      <td>NaN</td>\n      <td>1.0</td>\n      <td>1.0</td>\n      <td>NaN</td>\n    </tr>\n    <tr>\n      <th>1</th>\n      <td>11149932</td>\n      <td>Wetteren</td>\n      <td>9230</td>\n      <td>2015</td>\n      <td>3.0</td>\n      <td>134.0</td>\n      <td>NaN</td>\n      <td>APARTMENT</td>\n      <td>DUPLEX</td>\n      <td>339000</td>\n      <td>...</td>\n      <td>False</td>\n      <td>BUY_REGULAR</td>\n      <td>GAS</td>\n      <td>NaN</td>\n      <td>NaN</td>\n      <td>NaN</td>\n      <td>NaN</td>\n      <td>NaN</td>\n      <td>1.0</td>\n      <td>NaN</td>\n    </tr>\n    <tr>\n      <th>2</th>\n      <td>11150061</td>\n      <td>Ixelles</td>\n      <td>1050</td>\n      <td>1958</td>\n      <td>2.0</td>\n      <td>134.0</td>\n      <td>NaN</td>\n      <td>APARTMENT</td>\n      <td>APARTMENT</td>\n      <td>495000</td>\n      <td>...</td>\n      <td>False</td>\n      <td>BUY_REGULAR</td>\n      <td>GAS</td>\n      <td>NaN</td>\n      <td>NaN</td>\n      <td>NaN</td>\n      <td>NaN</td>\n      <td>NaN</td>\n      <td>NaN</td>\n      <td>NaN</td>\n    </tr>\n    <tr>\n      <th>3</th>\n      <td>11153822</td>\n      <td>BERCHEM</td>\n      <td>2600</td>\n      <td>1968</td>\n      <td>2.0</td>\n      <td>90.0</td>\n      <td>NaN</td>\n      <td>APARTMENT</td>\n      <td>APARTMENT</td>\n      <td>175000</td>\n      <td>...</td>\n      <td>NaN</td>\n      <td>BUY_REGULAR</td>\n      <td>NaN</td>\n      <td>NaN</td>\n      <td>NaN</td>\n      <td>NaN</td>\n      <td>NaN</td>\n      <td>NaN</td>\n      <td>1.0</td>\n      <td>NaN</td>\n    </tr>\n    <tr>\n      <th>4</th>\n      <td>11153121</td>\n      <td>Jette</td>\n      <td>1090</td>\n      <td>1965</td>\n      <td>2.0</td>\n      <td>80.0</td>\n      <td>NaN</td>\n      <td>APARTMENT</td>\n      <td>APARTMENT</td>\n      <td>289000</td>\n      <td>...</td>\n      <td>False</td>\n      <td>BUY_REGULAR</td>\n      <td>NaN</td>\n      <td>NaN</td>\n      <td>NaN</td>\n      <td>NaN</td>\n      <td>NaN</td>\n      <td>NaN</td>\n      <td>NaN</td>\n      <td>NaN</td>\n    </tr>\n    <tr>\n      <th>...</th>\n      <td>...</td>\n      <td>...</td>\n      <td>...</td>\n      <td>...</td>\n      <td>...</td>\n      <td>...</td>\n      <td>...</td>\n      <td>...</td>\n      <td>...</td>\n      <td>...</td>\n      <td>...</td>\n      <td>...</td>\n      <td>...</td>\n      <td>...</td>\n      <td>...</td>\n      <td>...</td>\n      <td>...</td>\n      <td>...</td>\n      <td>...</td>\n      <td>...</td>\n      <td>...</td>\n    </tr>\n    <tr>\n      <th>12383</th>\n      <td>11162924</td>\n      <td>Zutendaal</td>\n      <td>3690</td>\n      <td>1991</td>\n      <td>4.0</td>\n      <td>206.0</td>\n      <td>1040.0</td>\n      <td>HOUSE</td>\n      <td>HOUSE</td>\n      <td>499000</td>\n      <td>...</td>\n      <td>False</td>\n      <td>BUY_REGULAR</td>\n      <td>FUELOIL</td>\n      <td>NaN</td>\n      <td>True</td>\n      <td>CONNECTED</td>\n      <td>NaN</td>\n      <td>NaN</td>\n      <td>4.0</td>\n      <td>NaN</td>\n    </tr>\n    <tr>\n      <th>12384</th>\n      <td>11162921</td>\n      <td>Gistel</td>\n      <td>8470</td>\n      <td>1958</td>\n      <td>2.0</td>\n      <td>270.0</td>\n      <td>923.0</td>\n      <td>HOUSE</td>\n      <td>HOUSE</td>\n      <td>325000</td>\n      <td>...</td>\n      <td>False</td>\n      <td>BUY_REGULAR</td>\n      <td>GAS</td>\n      <td>NaN</td>\n      <td>True</td>\n      <td>CONNECTED</td>\n      <td>NaN</td>\n      <td>1.0</td>\n      <td>NaN</td>\n      <td>NaN</td>\n    </tr>\n    <tr>\n      <th>12385</th>\n      <td>11162917</td>\n      <td>EDEGEM</td>\n      <td>2650</td>\n      <td>1951</td>\n      <td>2.0</td>\n      <td>69.0</td>\n      <td>NaN</td>\n      <td>APARTMENT</td>\n      <td>APARTMENT</td>\n      <td>175000</td>\n      <td>...</td>\n      <td>NaN</td>\n      <td>BUY_REGULAR</td>\n      <td>GAS</td>\n      <td>NaN</td>\n      <td>NaN</td>\n      <td>NaN</td>\n      <td>NaN</td>\n      <td>NaN</td>\n      <td>NaN</td>\n      <td>NaN</td>\n    </tr>\n    <tr>\n      <th>12386</th>\n      <td>11162916</td>\n      <td>Erps-Kwerps</td>\n      <td>3071</td>\n      <td>1991</td>\n      <td>4.0</td>\n      <td>390.0</td>\n      <td>1778.0</td>\n      <td>HOUSE</td>\n      <td>VILLA</td>\n      <td>899000</td>\n      <td>...</td>\n      <td>False</td>\n      <td>BUY_REGULAR</td>\n      <td>FUELOIL</td>\n      <td>NaN</td>\n      <td>True</td>\n      <td>CONNECTED</td>\n      <td>NaN</td>\n      <td>2.0</td>\n      <td>3.0</td>\n      <td>NaN</td>\n    </tr>\n    <tr>\n      <th>12387</th>\n      <td>11101285</td>\n      <td>Vilvoorde</td>\n      <td>1800</td>\n      <td>2002</td>\n      <td>3.0</td>\n      <td>90.0</td>\n      <td>NaN</td>\n      <td>APARTMENT</td>\n      <td>APARTMENT</td>\n      <td>259000</td>\n      <td>...</td>\n      <td>False</td>\n      <td>BUY_REGULAR</td>\n      <td>GAS</td>\n      <td>NaN</td>\n      <td>NaN</td>\n      <td>NaN</td>\n      <td>NaN</td>\n      <td>1.0</td>\n      <td>NaN</td>\n      <td>NaN</td>\n    </tr>\n  </tbody>\n</table>\n<p>12302 rows × 43 columns</p>\n</div>"
     },
     "execution_count": 145,
     "metadata": {},
     "output_type": "execute_result"
    }
   ],
   "source": [
    "# Getting just APARTMENT AND HOUSE\n",
    "\n",
    "immo_AP_H =immo_raw_df[immo_raw_df['Type'].isin(['APARTMENT', 'HOUSE'])]\n",
    "immo_AP_H"
   ],
   "metadata": {
    "collapsed": false,
    "ExecuteTime": {
     "end_time": "2024-03-01T15:06:33.450874Z",
     "start_time": "2024-03-01T15:06:33.430152Z"
    }
   },
   "id": "47eae8abf7b374e2",
   "execution_count": 145
  },
  {
   "cell_type": "code",
   "outputs": [
    {
     "data": {
      "text/plain": "Index(['ID', 'Locality', 'Postal Code', 'Build Year', 'Facades',\n       'Habitable Surface', 'Land Surface', 'Type', 'Subtype', 'Price',\n       'Sale Type', 'Bedroom Count', 'Bathroom Count', 'Toilet Count',\n       'Room Count', 'Kitchen', 'Kitchen Surface', 'Kitchen Type', 'Furnished',\n       'Openfire', 'Fireplace Count', 'Terrace', 'Terrace Surface',\n       'Terrace Orientation', 'Garden Exists', 'Garden Surface',\n       'Garden Orientation', 'Swimming Pool', 'State of Building',\n       'Living Surface', 'EPC', 'Consumption Per m2', 'Cadastral Income',\n       'Has starting Price', 'Transaction Subtype', 'Heating Type',\n       'Is Holiday Property', 'Gas Water Electricity', 'Sewer', 'Sea view',\n       'Parking count inside', 'Parking count outside', 'Parking box count'],\n      dtype='object')"
     },
     "execution_count": 146,
     "metadata": {},
     "output_type": "execute_result"
    }
   ],
   "source": [
    "# Displaying column names\n",
    "\n",
    "immo_AP_H.columns"
   ],
   "metadata": {
    "collapsed": false,
    "ExecuteTime": {
     "end_time": "2024-03-01T15:06:39.642597Z",
     "start_time": "2024-03-01T15:06:39.639077Z"
    }
   },
   "id": "350cbaa664953882",
   "execution_count": 146
  },
  {
   "cell_type": "code",
   "outputs": [
    {
     "data": {
      "text/plain": "Index(['ID', 'Postal Code', 'Facades', 'Habitable Surface', 'Land Surface',\n       'Price', 'Bedroom Count', 'Bathroom Count', 'Toilet Count',\n       'Room Count', 'Kitchen', 'Kitchen Surface', 'Furnished', 'Openfire',\n       'Fireplace Count', 'Terrace', 'Terrace Surface', 'Garden Exists',\n       'Garden Surface', 'Living Surface', 'Consumption Per m2',\n       'Cadastral Income', 'Parking count inside', 'Parking count outside',\n       'Parking box count'],\n      dtype='object')"
     },
     "execution_count": 147,
     "metadata": {},
     "output_type": "execute_result"
    }
   ],
   "source": [
    "# Numerical features\n",
    "\n",
    "immo_AP_H.select_dtypes(include=['int', 'float']).columns"
   ],
   "metadata": {
    "collapsed": false,
    "ExecuteTime": {
     "end_time": "2024-03-01T15:06:44.886046Z",
     "start_time": "2024-03-01T15:06:44.881338Z"
    }
   },
   "id": "f6d8f492dba188f",
   "execution_count": 147
  },
  {
   "cell_type": "code",
   "outputs": [
    {
     "data": {
      "text/plain": "Index(['Locality', 'Build Year', 'Type', 'Subtype', 'Sale Type',\n       'Kitchen Type', 'Terrace Orientation', 'Garden Orientation',\n       'Swimming Pool', 'State of Building', 'EPC', 'Has starting Price',\n       'Transaction Subtype', 'Heating Type', 'Is Holiday Property',\n       'Gas Water Electricity', 'Sewer', 'Sea view'],\n      dtype='object')"
     },
     "execution_count": 148,
     "metadata": {},
     "output_type": "execute_result"
    }
   ],
   "source": [
    "# Categorical features\n",
    "\n",
    "immo_AP_H.select_dtypes(include=['object']).columns"
   ],
   "metadata": {
    "collapsed": false,
    "ExecuteTime": {
     "end_time": "2024-03-01T15:06:46.291470Z",
     "start_time": "2024-03-01T15:06:46.287128Z"
    }
   },
   "id": "a912fd44ab300b05",
   "execution_count": 148
  },
  {
   "cell_type": "markdown",
   "source": [
    "### Taking care of Categorical features"
   ],
   "metadata": {
    "collapsed": false
   },
   "id": "285076b9ee88e243"
  },
  {
   "cell_type": "markdown",
   "source": [
    "### Using One-Hot Encoding for Categorical features\n",
    "One-Hot Encoding is a data processing technique commonly used in machine learning to handle categorical variables. It consists of converting a categorical column containing different categories into several binary columns (0 or 1), where each column represents a single category. The term \"One-Hot\" refers to the representation where a single value is coded as \"1\" (on) and all others are coded as \"0\" (off)."
   ],
   "metadata": {
    "collapsed": false
   },
   "id": "1a900072c805b915"
  },
  {
   "cell_type": "markdown",
   "source": [
    "### Type feature"
   ],
   "metadata": {
    "collapsed": false
   },
   "id": "ae05416c75c4500d"
  },
  {
   "cell_type": "code",
   "outputs": [
    {
     "data": {
      "text/plain": "array(['APARTMENT', 'HOUSE'], dtype=object)"
     },
     "execution_count": 149,
     "metadata": {},
     "output_type": "execute_result"
    }
   ],
   "source": [
    "# Type\n",
    "immo_AP_H.Type.unique()"
   ],
   "metadata": {
    "collapsed": false,
    "ExecuteTime": {
     "end_time": "2024-03-01T15:06:55.205530Z",
     "start_time": "2024-03-01T15:06:55.200665Z"
    }
   },
   "id": "d893ae2cebe193fb",
   "execution_count": 149
  },
  {
   "cell_type": "code",
   "outputs": [
    {
     "name": "stdout",
     "output_type": "stream",
     "text": [
      "Total observations: 12302\n",
      "Total 'Type' missing values: 0\n",
      "Percentage of 'Type' missing values: 0.0\n"
     ]
    }
   ],
   "source": [
    "print(f\"Total observations: {immo_AP_H.shape[0]}\")\n",
    "print(f\"Total 'Type' missing values: {immo_AP_H['Type'].isnull().sum()}\")\n",
    "print(f\"Percentage of 'Type' missing values: {immo_AP_H['Type'].isnull().mean()}\")"
   ],
   "metadata": {
    "collapsed": false,
    "ExecuteTime": {
     "end_time": "2024-03-01T15:06:58.301185Z",
     "start_time": "2024-03-01T15:06:58.294155Z"
    }
   },
   "id": "ff38c5fc9b3f7d3c",
   "execution_count": 150
  },
  {
   "cell_type": "markdown",
   "source": [
    "### One-hot-Encoding for Type feature"
   ],
   "metadata": {
    "collapsed": false
   },
   "id": "a2d2b5daf2169e26"
  },
  {
   "cell_type": "code",
   "outputs": [],
   "source": [
    "# Perform one-hot encoding for the 'Type' column\n",
    "one_hot_encoded = pd.get_dummies(immo_AP_H['Type'])\n",
    "\n",
    "# Convert True/False to 1/0\n",
    "one_hot_encoded = one_hot_encoded.astype(int)\n",
    "\n",
    "# Concatenate the original DataFrame with the one-hot-encoded columns\n",
    "immo_AP_H_encoded = pd.concat([immo_AP_H, one_hot_encoded], axis=1)\n",
    "\n",
    "# Delete the original 'Type' column\n",
    "immo_AP_H_encoded.drop(columns=['Type'], inplace=True)"
   ],
   "metadata": {
    "collapsed": false,
    "ExecuteTime": {
     "end_time": "2024-03-01T15:07:58.409241Z",
     "start_time": "2024-03-01T15:07:58.390358Z"
    }
   },
   "id": "516c58b1d47b1a96",
   "execution_count": 154
  },
  {
   "cell_type": "code",
   "outputs": [
    {
     "data": {
      "text/plain": "             ID     Locality  Postal Code Build Year  Facades  \\\n0      11149965      Waremme         4300       1974      3.0   \n1      11149932     Wetteren         9230       2015      3.0   \n2      11150061      Ixelles         1050       1958      2.0   \n3      11153822      BERCHEM         2600       1968      2.0   \n4      11153121        Jette         1090       1965      2.0   \n...         ...          ...          ...        ...      ...   \n12383  11162924    Zutendaal         3690       1991      4.0   \n12384  11162921       Gistel         8470       1958      2.0   \n12385  11162917       EDEGEM         2650       1951      2.0   \n12386  11162916  Erps-Kwerps         3071       1991      4.0   \n12387  11101285    Vilvoorde         1800       2002      3.0   \n\n       Habitable Surface  Land Surface    Subtype   Price    Sale Type  ...  \\\n0                  115.0           NaN  APARTMENT  220000  NORMAL_SALE  ...   \n1                  134.0           NaN     DUPLEX  339000  NORMAL_SALE  ...   \n2                  134.0           NaN  APARTMENT  495000  NORMAL_SALE  ...   \n3                   90.0           NaN  APARTMENT  175000  NORMAL_SALE  ...   \n4                   80.0           NaN  APARTMENT  289000  NORMAL_SALE  ...   \n...                  ...           ...        ...     ...          ...  ...   \n12383              206.0        1040.0      HOUSE  499000  NORMAL_SALE  ...   \n12384              270.0         923.0      HOUSE  325000  NORMAL_SALE  ...   \n12385               69.0           NaN  APARTMENT  175000  NORMAL_SALE  ...   \n12386              390.0        1778.0      VILLA  899000  NORMAL_SALE  ...   \n12387               90.0           NaN  APARTMENT  259000  NORMAL_SALE  ...   \n\n       Heating Type  Is Holiday Property  Gas Water Electricity      Sewer  \\\n0           FUELOIL                  NaN                    NaN        NaN   \n1               GAS                  NaN                    NaN        NaN   \n2               GAS                  NaN                    NaN        NaN   \n3               NaN                  NaN                    NaN        NaN   \n4               NaN                  NaN                    NaN        NaN   \n...             ...                  ...                    ...        ...   \n12383       FUELOIL                  NaN                   True  CONNECTED   \n12384           GAS                  NaN                   True  CONNECTED   \n12385           GAS                  NaN                    NaN        NaN   \n12386       FUELOIL                  NaN                   True  CONNECTED   \n12387           GAS                  NaN                    NaN        NaN   \n\n       Sea view  Parking count inside Parking count outside  \\\n0           NaN                   1.0                   1.0   \n1           NaN                   NaN                   1.0   \n2           NaN                   NaN                   NaN   \n3           NaN                   NaN                   1.0   \n4           NaN                   NaN                   NaN   \n...         ...                   ...                   ...   \n12383       NaN                   NaN                   4.0   \n12384       NaN                   1.0                   NaN   \n12385       NaN                   NaN                   NaN   \n12386       NaN                   2.0                   3.0   \n12387       NaN                   1.0                   NaN   \n\n       Parking box count  APARTMENT  HOUSE  \n0                    NaN          1      0  \n1                    NaN          1      0  \n2                    NaN          1      0  \n3                    NaN          1      0  \n4                    NaN          1      0  \n...                  ...        ...    ...  \n12383                NaN          0      1  \n12384                NaN          0      1  \n12385                NaN          1      0  \n12386                NaN          0      1  \n12387                NaN          1      0  \n\n[12302 rows x 44 columns]",
      "text/html": "<div>\n<style scoped>\n    .dataframe tbody tr th:only-of-type {\n        vertical-align: middle;\n    }\n\n    .dataframe tbody tr th {\n        vertical-align: top;\n    }\n\n    .dataframe thead th {\n        text-align: right;\n    }\n</style>\n<table border=\"1\" class=\"dataframe\">\n  <thead>\n    <tr style=\"text-align: right;\">\n      <th></th>\n      <th>ID</th>\n      <th>Locality</th>\n      <th>Postal Code</th>\n      <th>Build Year</th>\n      <th>Facades</th>\n      <th>Habitable Surface</th>\n      <th>Land Surface</th>\n      <th>Subtype</th>\n      <th>Price</th>\n      <th>Sale Type</th>\n      <th>...</th>\n      <th>Heating Type</th>\n      <th>Is Holiday Property</th>\n      <th>Gas Water Electricity</th>\n      <th>Sewer</th>\n      <th>Sea view</th>\n      <th>Parking count inside</th>\n      <th>Parking count outside</th>\n      <th>Parking box count</th>\n      <th>APARTMENT</th>\n      <th>HOUSE</th>\n    </tr>\n  </thead>\n  <tbody>\n    <tr>\n      <th>0</th>\n      <td>11149965</td>\n      <td>Waremme</td>\n      <td>4300</td>\n      <td>1974</td>\n      <td>3.0</td>\n      <td>115.0</td>\n      <td>NaN</td>\n      <td>APARTMENT</td>\n      <td>220000</td>\n      <td>NORMAL_SALE</td>\n      <td>...</td>\n      <td>FUELOIL</td>\n      <td>NaN</td>\n      <td>NaN</td>\n      <td>NaN</td>\n      <td>NaN</td>\n      <td>1.0</td>\n      <td>1.0</td>\n      <td>NaN</td>\n      <td>1</td>\n      <td>0</td>\n    </tr>\n    <tr>\n      <th>1</th>\n      <td>11149932</td>\n      <td>Wetteren</td>\n      <td>9230</td>\n      <td>2015</td>\n      <td>3.0</td>\n      <td>134.0</td>\n      <td>NaN</td>\n      <td>DUPLEX</td>\n      <td>339000</td>\n      <td>NORMAL_SALE</td>\n      <td>...</td>\n      <td>GAS</td>\n      <td>NaN</td>\n      <td>NaN</td>\n      <td>NaN</td>\n      <td>NaN</td>\n      <td>NaN</td>\n      <td>1.0</td>\n      <td>NaN</td>\n      <td>1</td>\n      <td>0</td>\n    </tr>\n    <tr>\n      <th>2</th>\n      <td>11150061</td>\n      <td>Ixelles</td>\n      <td>1050</td>\n      <td>1958</td>\n      <td>2.0</td>\n      <td>134.0</td>\n      <td>NaN</td>\n      <td>APARTMENT</td>\n      <td>495000</td>\n      <td>NORMAL_SALE</td>\n      <td>...</td>\n      <td>GAS</td>\n      <td>NaN</td>\n      <td>NaN</td>\n      <td>NaN</td>\n      <td>NaN</td>\n      <td>NaN</td>\n      <td>NaN</td>\n      <td>NaN</td>\n      <td>1</td>\n      <td>0</td>\n    </tr>\n    <tr>\n      <th>3</th>\n      <td>11153822</td>\n      <td>BERCHEM</td>\n      <td>2600</td>\n      <td>1968</td>\n      <td>2.0</td>\n      <td>90.0</td>\n      <td>NaN</td>\n      <td>APARTMENT</td>\n      <td>175000</td>\n      <td>NORMAL_SALE</td>\n      <td>...</td>\n      <td>NaN</td>\n      <td>NaN</td>\n      <td>NaN</td>\n      <td>NaN</td>\n      <td>NaN</td>\n      <td>NaN</td>\n      <td>1.0</td>\n      <td>NaN</td>\n      <td>1</td>\n      <td>0</td>\n    </tr>\n    <tr>\n      <th>4</th>\n      <td>11153121</td>\n      <td>Jette</td>\n      <td>1090</td>\n      <td>1965</td>\n      <td>2.0</td>\n      <td>80.0</td>\n      <td>NaN</td>\n      <td>APARTMENT</td>\n      <td>289000</td>\n      <td>NORMAL_SALE</td>\n      <td>...</td>\n      <td>NaN</td>\n      <td>NaN</td>\n      <td>NaN</td>\n      <td>NaN</td>\n      <td>NaN</td>\n      <td>NaN</td>\n      <td>NaN</td>\n      <td>NaN</td>\n      <td>1</td>\n      <td>0</td>\n    </tr>\n    <tr>\n      <th>...</th>\n      <td>...</td>\n      <td>...</td>\n      <td>...</td>\n      <td>...</td>\n      <td>...</td>\n      <td>...</td>\n      <td>...</td>\n      <td>...</td>\n      <td>...</td>\n      <td>...</td>\n      <td>...</td>\n      <td>...</td>\n      <td>...</td>\n      <td>...</td>\n      <td>...</td>\n      <td>...</td>\n      <td>...</td>\n      <td>...</td>\n      <td>...</td>\n      <td>...</td>\n      <td>...</td>\n    </tr>\n    <tr>\n      <th>12383</th>\n      <td>11162924</td>\n      <td>Zutendaal</td>\n      <td>3690</td>\n      <td>1991</td>\n      <td>4.0</td>\n      <td>206.0</td>\n      <td>1040.0</td>\n      <td>HOUSE</td>\n      <td>499000</td>\n      <td>NORMAL_SALE</td>\n      <td>...</td>\n      <td>FUELOIL</td>\n      <td>NaN</td>\n      <td>True</td>\n      <td>CONNECTED</td>\n      <td>NaN</td>\n      <td>NaN</td>\n      <td>4.0</td>\n      <td>NaN</td>\n      <td>0</td>\n      <td>1</td>\n    </tr>\n    <tr>\n      <th>12384</th>\n      <td>11162921</td>\n      <td>Gistel</td>\n      <td>8470</td>\n      <td>1958</td>\n      <td>2.0</td>\n      <td>270.0</td>\n      <td>923.0</td>\n      <td>HOUSE</td>\n      <td>325000</td>\n      <td>NORMAL_SALE</td>\n      <td>...</td>\n      <td>GAS</td>\n      <td>NaN</td>\n      <td>True</td>\n      <td>CONNECTED</td>\n      <td>NaN</td>\n      <td>1.0</td>\n      <td>NaN</td>\n      <td>NaN</td>\n      <td>0</td>\n      <td>1</td>\n    </tr>\n    <tr>\n      <th>12385</th>\n      <td>11162917</td>\n      <td>EDEGEM</td>\n      <td>2650</td>\n      <td>1951</td>\n      <td>2.0</td>\n      <td>69.0</td>\n      <td>NaN</td>\n      <td>APARTMENT</td>\n      <td>175000</td>\n      <td>NORMAL_SALE</td>\n      <td>...</td>\n      <td>GAS</td>\n      <td>NaN</td>\n      <td>NaN</td>\n      <td>NaN</td>\n      <td>NaN</td>\n      <td>NaN</td>\n      <td>NaN</td>\n      <td>NaN</td>\n      <td>1</td>\n      <td>0</td>\n    </tr>\n    <tr>\n      <th>12386</th>\n      <td>11162916</td>\n      <td>Erps-Kwerps</td>\n      <td>3071</td>\n      <td>1991</td>\n      <td>4.0</td>\n      <td>390.0</td>\n      <td>1778.0</td>\n      <td>VILLA</td>\n      <td>899000</td>\n      <td>NORMAL_SALE</td>\n      <td>...</td>\n      <td>FUELOIL</td>\n      <td>NaN</td>\n      <td>True</td>\n      <td>CONNECTED</td>\n      <td>NaN</td>\n      <td>2.0</td>\n      <td>3.0</td>\n      <td>NaN</td>\n      <td>0</td>\n      <td>1</td>\n    </tr>\n    <tr>\n      <th>12387</th>\n      <td>11101285</td>\n      <td>Vilvoorde</td>\n      <td>1800</td>\n      <td>2002</td>\n      <td>3.0</td>\n      <td>90.0</td>\n      <td>NaN</td>\n      <td>APARTMENT</td>\n      <td>259000</td>\n      <td>NORMAL_SALE</td>\n      <td>...</td>\n      <td>GAS</td>\n      <td>NaN</td>\n      <td>NaN</td>\n      <td>NaN</td>\n      <td>NaN</td>\n      <td>1.0</td>\n      <td>NaN</td>\n      <td>NaN</td>\n      <td>1</td>\n      <td>0</td>\n    </tr>\n  </tbody>\n</table>\n<p>12302 rows × 44 columns</p>\n</div>"
     },
     "execution_count": 155,
     "metadata": {},
     "output_type": "execute_result"
    }
   ],
   "source": [
    "immo_AP_H_encoded"
   ],
   "metadata": {
    "collapsed": false,
    "ExecuteTime": {
     "end_time": "2024-03-01T15:07:58.871074Z",
     "start_time": "2024-03-01T15:07:58.851188Z"
    }
   },
   "id": "a3682c536ecb0426",
   "execution_count": 155
  },
  {
   "cell_type": "code",
   "outputs": [
    {
     "name": "stdout",
     "output_type": "stream",
     "text": [
      "Apartment Counts: 8219\n",
      "Apartment Counts: 4083\n"
     ]
    }
   ],
   "source": [
    "print(f\"Apartment Counts: {immo_AP_H_encoded.APARTMENT.value_counts()[1]}\")\n",
    "print(f\"Apartment Counts: {immo_AP_H_encoded.HOUSE.value_counts()[1]}\")"
   ],
   "metadata": {
    "collapsed": false,
    "ExecuteTime": {
     "end_time": "2024-03-01T15:08:13.398705Z",
     "start_time": "2024-03-01T15:08:13.395424Z"
    }
   },
   "id": "65b772e1bbc10e79",
   "execution_count": 157
  },
  {
   "cell_type": "markdown",
   "source": [
    "### Subtype feature"
   ],
   "metadata": {
    "collapsed": false
   },
   "id": "61d4c4bd24323717"
  },
  {
   "cell_type": "code",
   "outputs": [
    {
     "data": {
      "text/plain": "array(['APARTMENT', 'DUPLEX', 'PENTHOUSE', 'FLAT_STUDIO', 'GROUND_FLOOR',\n       'HOUSE', 'VILLA', 'CHALET', 'MIXED_USE_BUILDING',\n       'COUNTRY_COTTAGE', 'MANSION', 'APARTMENT_BLOCK', 'BUNGALOW',\n       'TOWN_HOUSE', 'LOFT', 'MANOR_HOUSE', 'EXCEPTIONAL_PROPERTY', 'KOT',\n       'TRIPLEX', 'SERVICE_FLAT', 'FARMHOUSE', 'OTHER_PROPERTY', 'CASTLE'],\n      dtype=object)"
     },
     "execution_count": 158,
     "metadata": {},
     "output_type": "execute_result"
    }
   ],
   "source": [
    "# Subtype\n",
    "\n",
    "immo_AP_H_encoded.Subtype.unique()"
   ],
   "metadata": {
    "collapsed": false,
    "ExecuteTime": {
     "end_time": "2024-03-01T15:08:25.161186Z",
     "start_time": "2024-03-01T15:08:25.158022Z"
    }
   },
   "id": "1e6118105522dfbc",
   "execution_count": 158
  },
  {
   "cell_type": "code",
   "outputs": [
    {
     "name": "stdout",
     "output_type": "stream",
     "text": [
      "Total observations: 12302\n",
      "Total 'Subtype' missing values: 0\n",
      "Percentage of 'Subtype' missing values: 0.0\n"
     ]
    }
   ],
   "source": [
    "print(f\"Total observations: {immo_AP_H_encoded.shape[0]}\")\n",
    "print(f\"Total 'Subtype' missing values: {immo_AP_H_encoded['Subtype'].isnull().sum()}\")\n",
    "print(f\"Percentage of 'Subtype' missing values: {immo_AP_H_encoded['Subtype'].isnull().mean()}\")"
   ],
   "metadata": {
    "collapsed": false,
    "ExecuteTime": {
     "end_time": "2024-03-01T15:08:42.934869Z",
     "start_time": "2024-03-01T15:08:42.931994Z"
    }
   },
   "id": "5d0ae2a98985d370",
   "execution_count": 159
  },
  {
   "cell_type": "markdown",
   "source": [
    "### One-hot-Encoding for Subtype feature"
   ],
   "metadata": {
    "collapsed": false
   },
   "id": "dbd98e67abffd268"
  },
  {
   "cell_type": "code",
   "outputs": [
    {
     "data": {
      "text/plain": "             ID     Locality  Postal Code Build Year  Facades  \\\n0      11149965      Waremme         4300       1974      3.0   \n1      11149932     Wetteren         9230       2015      3.0   \n2      11150061      Ixelles         1050       1958      2.0   \n3      11153822      BERCHEM         2600       1968      2.0   \n4      11153121        Jette         1090       1965      2.0   \n...         ...          ...          ...        ...      ...   \n12383  11162924    Zutendaal         3690       1991      4.0   \n12384  11162921       Gistel         8470       1958      2.0   \n12385  11162917       EDEGEM         2650       1951      2.0   \n12386  11162916  Erps-Kwerps         3071       1991      4.0   \n12387  11101285    Vilvoorde         1800       2002      3.0   \n\n       Habitable Surface  Land Surface   Price    Sale Type  Bedroom Count  \\\n0                  115.0           NaN  220000  NORMAL_SALE            3.0   \n1                  134.0           NaN  339000  NORMAL_SALE            3.0   \n2                  134.0           NaN  495000  NORMAL_SALE            2.0   \n3                   90.0           NaN  175000  NORMAL_SALE            2.0   \n4                   80.0           NaN  289000  NORMAL_SALE            3.0   \n...                  ...           ...     ...          ...            ...   \n12383              206.0        1040.0  499000  NORMAL_SALE            5.0   \n12384              270.0         923.0  325000  NORMAL_SALE            5.0   \n12385               69.0           NaN  175000  NORMAL_SALE            1.0   \n12386              390.0        1778.0  899000  NORMAL_SALE            5.0   \n12387               90.0           NaN  259000  NORMAL_SALE            2.0   \n\n       ...  LOFT  MANOR_HOUSE  MANSION  MIXED_USE_BUILDING  OTHER_PROPERTY  \\\n0      ...     0            0        0                   0               0   \n1      ...     0            0        0                   0               0   \n2      ...     0            0        0                   0               0   \n3      ...     0            0        0                   0               0   \n4      ...     0            0        0                   0               0   \n...    ...   ...          ...      ...                 ...             ...   \n12383  ...     0            0        0                   0               0   \n12384  ...     0            0        0                   0               0   \n12385  ...     0            0        0                   0               0   \n12386  ...     0            0        0                   0               0   \n12387  ...     0            0        0                   0               0   \n\n      PENTHOUSE  SERVICE_FLAT  TOWN_HOUSE  TRIPLEX  VILLA  \n0             0             0           0        0      0  \n1             0             0           0        0      0  \n2             0             0           0        0      0  \n3             0             0           0        0      0  \n4             0             0           0        0      0  \n...         ...           ...         ...      ...    ...  \n12383         0             0           0        0      0  \n12384         0             0           0        0      0  \n12385         0             0           0        0      0  \n12386         0             0           0        0      1  \n12387         0             0           0        0      0  \n\n[12302 rows x 66 columns]",
      "text/html": "<div>\n<style scoped>\n    .dataframe tbody tr th:only-of-type {\n        vertical-align: middle;\n    }\n\n    .dataframe tbody tr th {\n        vertical-align: top;\n    }\n\n    .dataframe thead th {\n        text-align: right;\n    }\n</style>\n<table border=\"1\" class=\"dataframe\">\n  <thead>\n    <tr style=\"text-align: right;\">\n      <th></th>\n      <th>ID</th>\n      <th>Locality</th>\n      <th>Postal Code</th>\n      <th>Build Year</th>\n      <th>Facades</th>\n      <th>Habitable Surface</th>\n      <th>Land Surface</th>\n      <th>Price</th>\n      <th>Sale Type</th>\n      <th>Bedroom Count</th>\n      <th>...</th>\n      <th>LOFT</th>\n      <th>MANOR_HOUSE</th>\n      <th>MANSION</th>\n      <th>MIXED_USE_BUILDING</th>\n      <th>OTHER_PROPERTY</th>\n      <th>PENTHOUSE</th>\n      <th>SERVICE_FLAT</th>\n      <th>TOWN_HOUSE</th>\n      <th>TRIPLEX</th>\n      <th>VILLA</th>\n    </tr>\n  </thead>\n  <tbody>\n    <tr>\n      <th>0</th>\n      <td>11149965</td>\n      <td>Waremme</td>\n      <td>4300</td>\n      <td>1974</td>\n      <td>3.0</td>\n      <td>115.0</td>\n      <td>NaN</td>\n      <td>220000</td>\n      <td>NORMAL_SALE</td>\n      <td>3.0</td>\n      <td>...</td>\n      <td>0</td>\n      <td>0</td>\n      <td>0</td>\n      <td>0</td>\n      <td>0</td>\n      <td>0</td>\n      <td>0</td>\n      <td>0</td>\n      <td>0</td>\n      <td>0</td>\n    </tr>\n    <tr>\n      <th>1</th>\n      <td>11149932</td>\n      <td>Wetteren</td>\n      <td>9230</td>\n      <td>2015</td>\n      <td>3.0</td>\n      <td>134.0</td>\n      <td>NaN</td>\n      <td>339000</td>\n      <td>NORMAL_SALE</td>\n      <td>3.0</td>\n      <td>...</td>\n      <td>0</td>\n      <td>0</td>\n      <td>0</td>\n      <td>0</td>\n      <td>0</td>\n      <td>0</td>\n      <td>0</td>\n      <td>0</td>\n      <td>0</td>\n      <td>0</td>\n    </tr>\n    <tr>\n      <th>2</th>\n      <td>11150061</td>\n      <td>Ixelles</td>\n      <td>1050</td>\n      <td>1958</td>\n      <td>2.0</td>\n      <td>134.0</td>\n      <td>NaN</td>\n      <td>495000</td>\n      <td>NORMAL_SALE</td>\n      <td>2.0</td>\n      <td>...</td>\n      <td>0</td>\n      <td>0</td>\n      <td>0</td>\n      <td>0</td>\n      <td>0</td>\n      <td>0</td>\n      <td>0</td>\n      <td>0</td>\n      <td>0</td>\n      <td>0</td>\n    </tr>\n    <tr>\n      <th>3</th>\n      <td>11153822</td>\n      <td>BERCHEM</td>\n      <td>2600</td>\n      <td>1968</td>\n      <td>2.0</td>\n      <td>90.0</td>\n      <td>NaN</td>\n      <td>175000</td>\n      <td>NORMAL_SALE</td>\n      <td>2.0</td>\n      <td>...</td>\n      <td>0</td>\n      <td>0</td>\n      <td>0</td>\n      <td>0</td>\n      <td>0</td>\n      <td>0</td>\n      <td>0</td>\n      <td>0</td>\n      <td>0</td>\n      <td>0</td>\n    </tr>\n    <tr>\n      <th>4</th>\n      <td>11153121</td>\n      <td>Jette</td>\n      <td>1090</td>\n      <td>1965</td>\n      <td>2.0</td>\n      <td>80.0</td>\n      <td>NaN</td>\n      <td>289000</td>\n      <td>NORMAL_SALE</td>\n      <td>3.0</td>\n      <td>...</td>\n      <td>0</td>\n      <td>0</td>\n      <td>0</td>\n      <td>0</td>\n      <td>0</td>\n      <td>0</td>\n      <td>0</td>\n      <td>0</td>\n      <td>0</td>\n      <td>0</td>\n    </tr>\n    <tr>\n      <th>...</th>\n      <td>...</td>\n      <td>...</td>\n      <td>...</td>\n      <td>...</td>\n      <td>...</td>\n      <td>...</td>\n      <td>...</td>\n      <td>...</td>\n      <td>...</td>\n      <td>...</td>\n      <td>...</td>\n      <td>...</td>\n      <td>...</td>\n      <td>...</td>\n      <td>...</td>\n      <td>...</td>\n      <td>...</td>\n      <td>...</td>\n      <td>...</td>\n      <td>...</td>\n      <td>...</td>\n    </tr>\n    <tr>\n      <th>12383</th>\n      <td>11162924</td>\n      <td>Zutendaal</td>\n      <td>3690</td>\n      <td>1991</td>\n      <td>4.0</td>\n      <td>206.0</td>\n      <td>1040.0</td>\n      <td>499000</td>\n      <td>NORMAL_SALE</td>\n      <td>5.0</td>\n      <td>...</td>\n      <td>0</td>\n      <td>0</td>\n      <td>0</td>\n      <td>0</td>\n      <td>0</td>\n      <td>0</td>\n      <td>0</td>\n      <td>0</td>\n      <td>0</td>\n      <td>0</td>\n    </tr>\n    <tr>\n      <th>12384</th>\n      <td>11162921</td>\n      <td>Gistel</td>\n      <td>8470</td>\n      <td>1958</td>\n      <td>2.0</td>\n      <td>270.0</td>\n      <td>923.0</td>\n      <td>325000</td>\n      <td>NORMAL_SALE</td>\n      <td>5.0</td>\n      <td>...</td>\n      <td>0</td>\n      <td>0</td>\n      <td>0</td>\n      <td>0</td>\n      <td>0</td>\n      <td>0</td>\n      <td>0</td>\n      <td>0</td>\n      <td>0</td>\n      <td>0</td>\n    </tr>\n    <tr>\n      <th>12385</th>\n      <td>11162917</td>\n      <td>EDEGEM</td>\n      <td>2650</td>\n      <td>1951</td>\n      <td>2.0</td>\n      <td>69.0</td>\n      <td>NaN</td>\n      <td>175000</td>\n      <td>NORMAL_SALE</td>\n      <td>1.0</td>\n      <td>...</td>\n      <td>0</td>\n      <td>0</td>\n      <td>0</td>\n      <td>0</td>\n      <td>0</td>\n      <td>0</td>\n      <td>0</td>\n      <td>0</td>\n      <td>0</td>\n      <td>0</td>\n    </tr>\n    <tr>\n      <th>12386</th>\n      <td>11162916</td>\n      <td>Erps-Kwerps</td>\n      <td>3071</td>\n      <td>1991</td>\n      <td>4.0</td>\n      <td>390.0</td>\n      <td>1778.0</td>\n      <td>899000</td>\n      <td>NORMAL_SALE</td>\n      <td>5.0</td>\n      <td>...</td>\n      <td>0</td>\n      <td>0</td>\n      <td>0</td>\n      <td>0</td>\n      <td>0</td>\n      <td>0</td>\n      <td>0</td>\n      <td>0</td>\n      <td>0</td>\n      <td>1</td>\n    </tr>\n    <tr>\n      <th>12387</th>\n      <td>11101285</td>\n      <td>Vilvoorde</td>\n      <td>1800</td>\n      <td>2002</td>\n      <td>3.0</td>\n      <td>90.0</td>\n      <td>NaN</td>\n      <td>259000</td>\n      <td>NORMAL_SALE</td>\n      <td>2.0</td>\n      <td>...</td>\n      <td>0</td>\n      <td>0</td>\n      <td>0</td>\n      <td>0</td>\n      <td>0</td>\n      <td>0</td>\n      <td>0</td>\n      <td>0</td>\n      <td>0</td>\n      <td>0</td>\n    </tr>\n  </tbody>\n</table>\n<p>12302 rows × 66 columns</p>\n</div>"
     },
     "execution_count": 160,
     "metadata": {},
     "output_type": "execute_result"
    }
   ],
   "source": [
    "# Perform one-hot encoding for the 'Subtype' column\n",
    "one_hot_encoded = pd.get_dummies(immo_AP_H_encoded['Subtype'])\n",
    "\n",
    "# Convert True/False to 1/0\n",
    "one_hot_encoded = one_hot_encoded.astype(int)\n",
    "\n",
    "# Concatenate the original DataFrame with the one-hot-encoded columns\n",
    "immo_AP_H_encoded = pd.concat([immo_AP_H_encoded, one_hot_encoded], axis=1)\n",
    "\n",
    "# Delete the original 'Subtype' column\n",
    "immo_AP_H_encoded.drop(columns=['Subtype'], inplace=True)\n",
    "\n",
    "immo_AP_H_encoded"
   ],
   "metadata": {
    "collapsed": false,
    "ExecuteTime": {
     "end_time": "2024-03-01T15:09:13.527750Z",
     "start_time": "2024-03-01T15:09:13.497724Z"
    }
   },
   "id": "d87adb05104b99ab",
   "execution_count": 160
  },
  {
   "cell_type": "markdown",
   "source": [
    "### Swimming pool feature"
   ],
   "metadata": {
    "collapsed": false
   },
   "id": "86d106b49b6459c2"
  },
  {
   "cell_type": "code",
   "outputs": [
    {
     "data": {
      "text/plain": "array([False, nan, True], dtype=object)"
     },
     "execution_count": 162,
     "metadata": {},
     "output_type": "execute_result"
    }
   ],
   "source": [
    "# Swimming Pool\n",
    "\n",
    "immo_AP_H_encoded['Swimming Pool'].unique()"
   ],
   "metadata": {
    "collapsed": false,
    "ExecuteTime": {
     "end_time": "2024-03-01T15:09:27.190300Z",
     "start_time": "2024-03-01T15:09:27.185957Z"
    }
   },
   "id": "27bd3944335f991d",
   "execution_count": 162
  },
  {
   "cell_type": "code",
   "outputs": [
    {
     "name": "stdout",
     "output_type": "stream",
     "text": [
      "Total observations: 12302\n",
      "Total 'Swimming Pool' missing values: 7278\n",
      "Percentage of 'Swimming Pool' missing values: 0.5916111201430662\n"
     ]
    }
   ],
   "source": [
    "print(f\"Total observations: {immo_AP_H_encoded.shape[0]}\")\n",
    "print(f\"Total 'Swimming Pool' missing values: {immo_AP_H_encoded['Swimming Pool'].isnull().sum()}\")\n",
    "print(f\"Percentage of 'Swimming Pool' missing values: {immo_AP_H_encoded['Swimming Pool'].isnull().mean()}\")"
   ],
   "metadata": {
    "collapsed": false,
    "ExecuteTime": {
     "end_time": "2024-03-01T15:09:43.883899Z",
     "start_time": "2024-03-01T15:09:43.879905Z"
    }
   },
   "id": "e93ab68e68805ef5",
   "execution_count": 163
  },
  {
   "cell_type": "markdown",
   "source": [
    "<font color='red'><h3>We don't take 'Swimming Pool' as a relevant feature because there are more than 50% of missing values.<h3></font>"
   ],
   "metadata": {
    "collapsed": false
   },
   "id": "f53d89b338dc0e79"
  },
  {
   "cell_type": "markdown",
   "source": [
    "### State of Building feature"
   ],
   "metadata": {
    "collapsed": false
   },
   "id": "485419f767f5ec0b"
  },
  {
   "cell_type": "code",
   "outputs": [
    {
     "data": {
      "text/plain": "array(['GOOD', 'AS_NEW', 'TO_RENOVATE', nan, 'TO_BE_DONE_UP',\n       'JUST_RENOVATED', 'TO_RESTORE'], dtype=object)"
     },
     "execution_count": 164,
     "metadata": {},
     "output_type": "execute_result"
    }
   ],
   "source": [
    "# State of Building\n",
    "\n",
    "immo_AP_H_encoded['State of Building'].unique()"
   ],
   "metadata": {
    "collapsed": false,
    "ExecuteTime": {
     "end_time": "2024-03-01T15:09:51.661310Z",
     "start_time": "2024-03-01T15:09:51.656458Z"
    }
   },
   "id": "efa3e831b926f955",
   "execution_count": 164
  },
  {
   "cell_type": "code",
   "outputs": [
    {
     "name": "stdout",
     "output_type": "stream",
     "text": [
      "Total observations: 12302\n",
      "Total 'State of Building' missing values: 4193\n",
      "Percentage of 'State of Building' missing values: 0.3408388879856934\n"
     ]
    }
   ],
   "source": [
    "print(f\"Total observations: {immo_AP_H_encoded.shape[0]}\")\n",
    "print(f\"Total 'State of Building' missing values: {immo_AP_H_encoded['State of Building'].isnull().sum()}\")\n",
    "print(f\"Percentage of 'State of Building' missing values: {immo_AP_H_encoded['State of Building'].isnull().mean()}\")"
   ],
   "metadata": {
    "collapsed": false,
    "ExecuteTime": {
     "end_time": "2024-03-01T15:10:09.370492Z",
     "start_time": "2024-03-01T15:10:09.360987Z"
    }
   },
   "id": "fbe2dfce7ef9a69d",
   "execution_count": 165
  },
  {
   "cell_type": "code",
   "outputs": [
    {
     "data": {
      "text/plain": "array(['C', 'B', 'D', 'G', 'F', nan, 'A', 'E', 'A+', 'A++'], dtype=object)"
     },
     "execution_count": 169,
     "metadata": {},
     "output_type": "execute_result"
    }
   ],
   "source": [
    "# EPC\n",
    "\n",
    "immo_AP_H_encoded.EPC.unique()"
   ],
   "metadata": {
    "collapsed": false,
    "ExecuteTime": {
     "end_time": "2024-03-01T15:29:23.084532Z",
     "start_time": "2024-03-01T15:29:23.081160Z"
    }
   },
   "id": "6b17d0b988563e55",
   "execution_count": 169
  },
  {
   "cell_type": "code",
   "outputs": [
    {
     "name": "stdout",
     "output_type": "stream",
     "text": [
      "Total observations: 12302\n",
      "Total 'State of Building' missing values: 4077\n",
      "Percentage of 'State of Building' missing values: 0.33140952690619413\n"
     ]
    }
   ],
   "source": [
    "print(f\"Total observations: {immo_AP_H_encoded.shape[0]}\")\n",
    "print(f\"Total 'State of Building' missing values: {immo_AP_H_encoded.EPC.isnull().sum()}\")\n",
    "print(f\"Percentage of 'State of Building' missing values: {immo_AP_H_encoded.EPC.isnull().mean()}\")"
   ],
   "metadata": {
    "collapsed": false,
    "ExecuteTime": {
     "end_time": "2024-03-01T15:30:11.984806Z",
     "start_time": "2024-03-01T15:30:11.980680Z"
    }
   },
   "id": "d136ca60a00f55ff",
   "execution_count": 170
  },
  {
   "cell_type": "code",
   "outputs": [
    {
     "data": {
      "text/plain": "<Figure size 1000x800 with 2 Axes>",
      "image/png": "[encoded data removed]"
     },
     "metadata": {},
     "output_type": "display_data"
    }
   ],
   "source": [
    "# correlation_matrix = immo_AP_H[immo_AP_H.select_dtypes(include=['int', 'float']).columns].corr()\n",
    "correlation_matrix = immo_AP_H_encoded[['Price', 'APARTMENT', 'HOUSE']].corr()\n",
    "\n",
    "plt.figure(figsize=(10, 8))\n",
    "sns.heatmap(correlation_matrix, annot=True, cmap='coolwarm', fmt=\".2f\", linewidths=0.5)\n",
    "plt.title('Correlation Matrix')\n",
    "plt.show()"
   ],
   "metadata": {
    "collapsed": false,
    "ExecuteTime": {
     "end_time": "2024-03-01T15:11:53.834095Z",
     "start_time": "2024-03-01T15:11:53.560966Z"
    }
   },
   "id": "2a3aae3658dbc1b5",
   "execution_count": 167
  },
  {
   "cell_type": "code",
   "outputs": [],
   "source": [
    "# I don't take 'Kitchen' because if 'Kitchen Surface' is 0 is because the property doesn't have 'Kitchen'\n",
    "# I don't take 'Openfire' because if 'Openfire Count' is 0 is because the property doesn't have 'Openfire'\n",
    "\n",
    "interest_columns = ['Price', 'Postal Code', 'Build Year', 'Facades', 'Habitable Surface', 'Land Surface', 'Type', 'Subtype', 'Bedroom Count', 'Bathroom Count', 'Toilet Count', 'Room Count', 'Kitchen Surface', 'Kitchen Type', 'Furnished', 'Fireplace Count', 'Terrace', 'Terrace Surface', 'Garden Surface', 'Swimming Pool', 'State of Building', 'Living Surface']"
   ],
   "metadata": {
    "collapsed": false
   },
   "id": "48f4bf42d3879317"
  }
 ],
 "metadata": {
  "kernelspec": {
   "display_name": "Python 3",
   "language": "python",
   "name": "python3"
  },
  "language_info": {
   "codemirror_mode": {
    "name": "ipython",
    "version": 2
   },
   "file_extension": ".py",
   "mimetype": "text/x-python",
   "name": "python",
   "nbconvert_exporter": "python",
   "pygments_lexer": "ipython2",
   "version": "2.7.6"
  }
 },
 "nbformat": 4,
 "nbformat_minor": 5
}
