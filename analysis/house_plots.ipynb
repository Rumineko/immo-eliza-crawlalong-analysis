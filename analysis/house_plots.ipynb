{
 "cells": [
  {
   "cell_type": "code",
   "execution_count": 7,
   "id": "initial_id",
   "metadata": {
    "collapsed": true,
    "ExecuteTime": {
     "end_time": "2024-03-05T18:29:35.645584Z",
     "start_time": "2024-03-05T18:29:35.637849Z"
    }
   },
   "outputs": [],
   "source": [
    "import pandas as pd\n",
    "import numpy as np\n",
    "import seaborn as sns\n",
    "import matplotlib.pyplot as plt"
   ]
  },
  {
   "cell_type": "code",
   "outputs": [],
   "source": [
    "immo_h_data = pd.read_csv('../data/cleaned/immo_house_not_outliers.csv')"
   ],
   "metadata": {
    "collapsed": false,
    "ExecuteTime": {
     "end_time": "2024-03-05T18:29:36.328865Z",
     "start_time": "2024-03-05T18:29:36.307436Z"
    }
   },
   "id": "a8d4c0bf36fbf413",
   "execution_count": 8
  },
  {
   "cell_type": "code",
   "outputs": [
    {
     "data": {
      "text/plain": "    Price  Facades  Habitable Surface   Type  Bedroom Count  Bathroom Count  \\\n0  269000      2.0         178.000000  HOUSE            4.0             1.0   \n1   99000      4.0          33.000000  HOUSE            1.0             1.0   \n2  584000      3.0         284.000000  HOUSE            4.0             1.0   \n3  299000      3.0         205.541958  HOUSE            3.0             1.0   \n4  380600      3.0         209.000000  HOUSE            3.0             1.0   \n\n   Toilet Count  Room Count  Kitchen Type  Furnished  Terrace  \\\n0           2.0         5.0           3.0          0        0   \n1           1.0         3.0           1.0          0        1   \n2           2.0         7.0           1.0          0        0   \n3           1.0         4.0           1.0          0        0   \n4           2.0         6.0           1.0          0        0   \n\n   Terrace Surface  State of Building  Living Surface  EPC  \\\n0        21.915179                3.0       32.000000  5.0   \n1         6.000000                3.0       36.465753  4.0   \n2        21.915179                1.0       36.465753  4.0   \n3        21.915179                2.0       41.000000  1.0   \n4        21.915179                3.0       41.000000  4.0   \n\n   Consumption Per m2       Municipality   Province  APARTMENT  HOUSE  \n0          107.000000           TURNHOUT  ANTWERPEN          0      1  \n1          371.896623              LILLE  ANTWERPEN          0      1  \n2          371.896623             BORNEM  ANTWERPEN          0      1  \n3          519.000000  HEIST-OP-DEN-BERG  ANTWERPEN          0      1  \n4          371.896623            LAAKDAL  ANTWERPEN          0      1  ",
      "text/html": "<div>\n<style scoped>\n    .dataframe tbody tr th:only-of-type {\n        vertical-align: middle;\n    }\n\n    .dataframe tbody tr th {\n        vertical-align: top;\n    }\n\n    .dataframe thead th {\n        text-align: right;\n    }\n</style>\n<table border=\"1\" class=\"dataframe\">\n  <thead>\n    <tr style=\"text-align: right;\">\n      <th></th>\n      <th>Price</th>\n      <th>Facades</th>\n      <th>Habitable Surface</th>\n      <th>Type</th>\n      <th>Bedroom Count</th>\n      <th>Bathroom Count</th>\n      <th>Toilet Count</th>\n      <th>Room Count</th>\n      <th>Kitchen Type</th>\n      <th>Furnished</th>\n      <th>Terrace</th>\n      <th>Terrace Surface</th>\n      <th>State of Building</th>\n      <th>Living Surface</th>\n      <th>EPC</th>\n      <th>Consumption Per m2</th>\n      <th>Municipality</th>\n      <th>Province</th>\n      <th>APARTMENT</th>\n      <th>HOUSE</th>\n    </tr>\n  </thead>\n  <tbody>\n    <tr>\n      <th>0</th>\n      <td>269000</td>\n      <td>2.0</td>\n      <td>178.000000</td>\n      <td>HOUSE</td>\n      <td>4.0</td>\n      <td>1.0</td>\n      <td>2.0</td>\n      <td>5.0</td>\n      <td>3.0</td>\n      <td>0</td>\n      <td>0</td>\n      <td>21.915179</td>\n      <td>3.0</td>\n      <td>32.000000</td>\n      <td>5.0</td>\n      <td>107.000000</td>\n      <td>TURNHOUT</td>\n      <td>ANTWERPEN</td>\n      <td>0</td>\n      <td>1</td>\n    </tr>\n    <tr>\n      <th>1</th>\n      <td>99000</td>\n      <td>4.0</td>\n      <td>33.000000</td>\n      <td>HOUSE</td>\n      <td>1.0</td>\n      <td>1.0</td>\n      <td>1.0</td>\n      <td>3.0</td>\n      <td>1.0</td>\n      <td>0</td>\n      <td>1</td>\n      <td>6.000000</td>\n      <td>3.0</td>\n      <td>36.465753</td>\n      <td>4.0</td>\n      <td>371.896623</td>\n      <td>LILLE</td>\n      <td>ANTWERPEN</td>\n      <td>0</td>\n      <td>1</td>\n    </tr>\n    <tr>\n      <th>2</th>\n      <td>584000</td>\n      <td>3.0</td>\n      <td>284.000000</td>\n      <td>HOUSE</td>\n      <td>4.0</td>\n      <td>1.0</td>\n      <td>2.0</td>\n      <td>7.0</td>\n      <td>1.0</td>\n      <td>0</td>\n      <td>0</td>\n      <td>21.915179</td>\n      <td>1.0</td>\n      <td>36.465753</td>\n      <td>4.0</td>\n      <td>371.896623</td>\n      <td>BORNEM</td>\n      <td>ANTWERPEN</td>\n      <td>0</td>\n      <td>1</td>\n    </tr>\n    <tr>\n      <th>3</th>\n      <td>299000</td>\n      <td>3.0</td>\n      <td>205.541958</td>\n      <td>HOUSE</td>\n      <td>3.0</td>\n      <td>1.0</td>\n      <td>1.0</td>\n      <td>4.0</td>\n      <td>1.0</td>\n      <td>0</td>\n      <td>0</td>\n      <td>21.915179</td>\n      <td>2.0</td>\n      <td>41.000000</td>\n      <td>1.0</td>\n      <td>519.000000</td>\n      <td>HEIST-OP-DEN-BERG</td>\n      <td>ANTWERPEN</td>\n      <td>0</td>\n      <td>1</td>\n    </tr>\n    <tr>\n      <th>4</th>\n      <td>380600</td>\n      <td>3.0</td>\n      <td>209.000000</td>\n      <td>HOUSE</td>\n      <td>3.0</td>\n      <td>1.0</td>\n      <td>2.0</td>\n      <td>6.0</td>\n      <td>1.0</td>\n      <td>0</td>\n      <td>0</td>\n      <td>21.915179</td>\n      <td>3.0</td>\n      <td>41.000000</td>\n      <td>4.0</td>\n      <td>371.896623</td>\n      <td>LAAKDAL</td>\n      <td>ANTWERPEN</td>\n      <td>0</td>\n      <td>1</td>\n    </tr>\n  </tbody>\n</table>\n</div>"
     },
     "execution_count": 9,
     "metadata": {},
     "output_type": "execute_result"
    }
   ],
   "source": [
    "immo_h_data.head()"
   ],
   "metadata": {
    "collapsed": false,
    "ExecuteTime": {
     "end_time": "2024-03-05T18:29:36.878062Z",
     "start_time": "2024-03-05T18:29:36.865997Z"
    }
   },
   "id": "d653257926045a2c",
   "execution_count": 9
  },
  {
   "cell_type": "code",
   "outputs": [],
   "source": [],
   "metadata": {
    "collapsed": false,
    "ExecuteTime": {
     "end_time": "2024-03-05T18:29:37.538835Z",
     "start_time": "2024-03-05T18:29:37.533855Z"
    }
   },
   "id": "9451f588e99fbfc3",
   "execution_count": 9
  },
  {
   "cell_type": "code",
   "outputs": [],
   "source": [],
   "metadata": {
    "collapsed": false
   },
   "id": "550dc83294367aa2"
  }
 ],
 "metadata": {
  "kernelspec": {
   "display_name": "Python 3",
   "language": "python",
   "name": "python3"
  },
  "language_info": {
   "codemirror_mode": {
    "name": "ipython",
    "version": 2
   },
   "file_extension": ".py",
   "mimetype": "text/x-python",
   "name": "python",
   "nbconvert_exporter": "python",
   "pygments_lexer": "ipython2",
   "version": "2.7.6"
  }
 },
 "nbformat": 4,
 "nbformat_minor": 5
}
